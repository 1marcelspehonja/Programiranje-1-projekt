{
 "cells": [
  {
   "cell_type": "markdown",
   "metadata": {},
   "source": [
    "# NBA 2018/19"
   ]
  },
  {
   "cell_type": "markdown",
   "metadata": {},
   "source": [
    "Analiziral bom igralce v košarkarski ligi NBA v sezoni 2018/19. V analizi bom igralce razdelil po državah iz katerih prihajajo, po poziciji na kateri igrajo in po njihovi starosti v tej sezoni ter podatke prikazal v grafih. Analiziral bom povezavo med procentom meta in višino ter težo igralca. Ugotavljal bom ali so višji igralci res manj natančni. Pogledal si bom tudi kdo so najboljši veterani in najboljši mladi igralci v ligi."
   ]
  },
  {
   "cell_type": "code",
   "execution_count": 1,
   "metadata": {},
   "outputs": [],
   "source": [
    "# naložimo paket\n",
    "import pandas as pd\n",
    "import matplotlib.pyplot as plt\n",
    "%matplotlib inline\n",
    "\n",
    "\n",
    "# naložimo razpredelnico, s katero bomo delali\n",
    "podatki_surovo = pd.read_csv('urejeni_podatki.csv', index_col='ID')\n",
    "\n",
    "# ker bomo delali z velikimi razpredelnicami, povemo, da naj se vedno izpiše le 10 vrstic\n",
    "pd.options.display.max_rows = 10"
   ]
  },
  {
   "cell_type": "code",
   "execution_count": 2,
   "metadata": {},
   "outputs": [
    {
     "data": {
      "text/html": [
       "<div>\n",
       "<style scoped>\n",
       "    .dataframe tbody tr th:only-of-type {\n",
       "        vertical-align: middle;\n",
       "    }\n",
       "\n",
       "    .dataframe tbody tr th {\n",
       "        vertical-align: top;\n",
       "    }\n",
       "\n",
       "    .dataframe thead th {\n",
       "        text-align: right;\n",
       "    }\n",
       "</style>\n",
       "<table border=\"1\" class=\"dataframe\">\n",
       "  <thead>\n",
       "    <tr style=\"text-align: right;\">\n",
       "      <th></th>\n",
       "      <th>ime_priimek</th>\n",
       "      <th>višina</th>\n",
       "      <th>teža</th>\n",
       "      <th>rojstvo</th>\n",
       "      <th>država</th>\n",
       "      <th>ekipa</th>\n",
       "      <th>pozicija</th>\n",
       "      <th>GP</th>\n",
       "      <th>MP_game</th>\n",
       "      <th>Tri_game</th>\n",
       "      <th>Tri_pct</th>\n",
       "      <th>FT_game</th>\n",
       "      <th>FT_pct</th>\n",
       "      <th>RPG</th>\n",
       "      <th>APG</th>\n",
       "      <th>PPG</th>\n",
       "    </tr>\n",
       "    <tr>\n",
       "      <th>ID</th>\n",
       "      <th></th>\n",
       "      <th></th>\n",
       "      <th></th>\n",
       "      <th></th>\n",
       "      <th></th>\n",
       "      <th></th>\n",
       "      <th></th>\n",
       "      <th></th>\n",
       "      <th></th>\n",
       "      <th></th>\n",
       "      <th></th>\n",
       "      <th></th>\n",
       "      <th></th>\n",
       "      <th></th>\n",
       "      <th></th>\n",
       "      <th></th>\n",
       "    </tr>\n",
       "  </thead>\n",
       "  <tbody>\n",
       "    <tr>\n",
       "      <th>abrinal01</th>\n",
       "      <td>Álex Abrines</td>\n",
       "      <td>198</td>\n",
       "      <td>90</td>\n",
       "      <td>1993</td>\n",
       "      <td>Spain</td>\n",
       "      <td>OKC</td>\n",
       "      <td>SG</td>\n",
       "      <td>31</td>\n",
       "      <td>19.0</td>\n",
       "      <td>1.3</td>\n",
       "      <td>0.323</td>\n",
       "      <td>0.4</td>\n",
       "      <td>0.923</td>\n",
       "      <td>1.5</td>\n",
       "      <td>0.6</td>\n",
       "      <td>5.3</td>\n",
       "    </tr>\n",
       "    <tr>\n",
       "      <th>acyqu01</th>\n",
       "      <td>Quincy Acy</td>\n",
       "      <td>201</td>\n",
       "      <td>108</td>\n",
       "      <td>1990</td>\n",
       "      <td>Texas</td>\n",
       "      <td>PHO</td>\n",
       "      <td>PF</td>\n",
       "      <td>10</td>\n",
       "      <td>12.3</td>\n",
       "      <td>0.2</td>\n",
       "      <td>0.133</td>\n",
       "      <td>0.7</td>\n",
       "      <td>0.700</td>\n",
       "      <td>2.5</td>\n",
       "      <td>0.8</td>\n",
       "      <td>1.7</td>\n",
       "    </tr>\n",
       "    <tr>\n",
       "      <th>adamsja01</th>\n",
       "      <td>Jaylen Adams</td>\n",
       "      <td>188</td>\n",
       "      <td>86</td>\n",
       "      <td>1996</td>\n",
       "      <td>Maryland</td>\n",
       "      <td>ATL</td>\n",
       "      <td>PG</td>\n",
       "      <td>34</td>\n",
       "      <td>12.6</td>\n",
       "      <td>0.7</td>\n",
       "      <td>0.338</td>\n",
       "      <td>0.2</td>\n",
       "      <td>0.778</td>\n",
       "      <td>1.8</td>\n",
       "      <td>1.9</td>\n",
       "      <td>3.2</td>\n",
       "    </tr>\n",
       "    <tr>\n",
       "      <th>adamsst01</th>\n",
       "      <td>Steven Adams</td>\n",
       "      <td>211</td>\n",
       "      <td>120</td>\n",
       "      <td>1993</td>\n",
       "      <td>New Zealand</td>\n",
       "      <td>OKC</td>\n",
       "      <td>C</td>\n",
       "      <td>80</td>\n",
       "      <td>33.4</td>\n",
       "      <td>0.0</td>\n",
       "      <td>0.000</td>\n",
       "      <td>1.8</td>\n",
       "      <td>0.500</td>\n",
       "      <td>9.5</td>\n",
       "      <td>1.6</td>\n",
       "      <td>13.9</td>\n",
       "    </tr>\n",
       "    <tr>\n",
       "      <th>adebaba01</th>\n",
       "      <td>Bam Adebayo</td>\n",
       "      <td>206</td>\n",
       "      <td>115</td>\n",
       "      <td>1997</td>\n",
       "      <td>New Jersey</td>\n",
       "      <td>MIA</td>\n",
       "      <td>C</td>\n",
       "      <td>82</td>\n",
       "      <td>23.3</td>\n",
       "      <td>0.0</td>\n",
       "      <td>0.200</td>\n",
       "      <td>2.0</td>\n",
       "      <td>0.735</td>\n",
       "      <td>7.3</td>\n",
       "      <td>2.2</td>\n",
       "      <td>8.9</td>\n",
       "    </tr>\n",
       "    <tr>\n",
       "      <th>...</th>\n",
       "      <td>...</td>\n",
       "      <td>...</td>\n",
       "      <td>...</td>\n",
       "      <td>...</td>\n",
       "      <td>...</td>\n",
       "      <td>...</td>\n",
       "      <td>...</td>\n",
       "      <td>...</td>\n",
       "      <td>...</td>\n",
       "      <td>...</td>\n",
       "      <td>...</td>\n",
       "      <td>...</td>\n",
       "      <td>...</td>\n",
       "      <td>...</td>\n",
       "      <td>...</td>\n",
       "      <td>...</td>\n",
       "    </tr>\n",
       "    <tr>\n",
       "      <th>youngtr01</th>\n",
       "      <td>Trae Young</td>\n",
       "      <td>185</td>\n",
       "      <td>81</td>\n",
       "      <td>1998</td>\n",
       "      <td>Texas</td>\n",
       "      <td>ATL</td>\n",
       "      <td>PG</td>\n",
       "      <td>81</td>\n",
       "      <td>30.9</td>\n",
       "      <td>1.9</td>\n",
       "      <td>0.324</td>\n",
       "      <td>4.2</td>\n",
       "      <td>0.829</td>\n",
       "      <td>3.7</td>\n",
       "      <td>8.1</td>\n",
       "      <td>19.1</td>\n",
       "    </tr>\n",
       "    <tr>\n",
       "      <th>zelleco01</th>\n",
       "      <td>Cody Zeller</td>\n",
       "      <td>213</td>\n",
       "      <td>108</td>\n",
       "      <td>1992</td>\n",
       "      <td>Indiana</td>\n",
       "      <td>CHO</td>\n",
       "      <td>C</td>\n",
       "      <td>49</td>\n",
       "      <td>25.4</td>\n",
       "      <td>0.1</td>\n",
       "      <td>0.273</td>\n",
       "      <td>2.3</td>\n",
       "      <td>0.787</td>\n",
       "      <td>6.8</td>\n",
       "      <td>2.1</td>\n",
       "      <td>10.1</td>\n",
       "    </tr>\n",
       "    <tr>\n",
       "      <th>zellety01</th>\n",
       "      <td>Tyler Zeller</td>\n",
       "      <td>213</td>\n",
       "      <td>114</td>\n",
       "      <td>1990</td>\n",
       "      <td>California</td>\n",
       "      <td>TOT</td>\n",
       "      <td>C</td>\n",
       "      <td>6</td>\n",
       "      <td>15.5</td>\n",
       "      <td>0.0</td>\n",
       "      <td>0.000</td>\n",
       "      <td>2.3</td>\n",
       "      <td>0.778</td>\n",
       "      <td>4.0</td>\n",
       "      <td>0.7</td>\n",
       "      <td>7.7</td>\n",
       "    </tr>\n",
       "    <tr>\n",
       "      <th>zizican01</th>\n",
       "      <td>Ante Žižić</td>\n",
       "      <td>208</td>\n",
       "      <td>115</td>\n",
       "      <td>1997</td>\n",
       "      <td>Croatia</td>\n",
       "      <td>CLE</td>\n",
       "      <td>C</td>\n",
       "      <td>59</td>\n",
       "      <td>18.3</td>\n",
       "      <td>0.0</td>\n",
       "      <td>NaN</td>\n",
       "      <td>1.6</td>\n",
       "      <td>0.705</td>\n",
       "      <td>5.4</td>\n",
       "      <td>0.9</td>\n",
       "      <td>7.8</td>\n",
       "    </tr>\n",
       "    <tr>\n",
       "      <th>zubaciv01</th>\n",
       "      <td>Ivica Zubac</td>\n",
       "      <td>213</td>\n",
       "      <td>108</td>\n",
       "      <td>1997</td>\n",
       "      <td>Bosnia and Herzegovina</td>\n",
       "      <td>TOT</td>\n",
       "      <td>C</td>\n",
       "      <td>59</td>\n",
       "      <td>17.6</td>\n",
       "      <td>0.0</td>\n",
       "      <td>NaN</td>\n",
       "      <td>1.7</td>\n",
       "      <td>0.802</td>\n",
       "      <td>6.1</td>\n",
       "      <td>1.1</td>\n",
       "      <td>8.9</td>\n",
       "    </tr>\n",
       "  </tbody>\n",
       "</table>\n",
       "<p>530 rows × 16 columns</p>\n",
       "</div>"
      ],
      "text/plain": [
       "            ime_priimek  višina  teža  rojstvo                  država ekipa  \\\n",
       "ID                                                                             \n",
       "abrinal01  Álex Abrines     198    90     1993                   Spain   OKC   \n",
       "acyqu01      Quincy Acy     201   108     1990                   Texas   PHO   \n",
       "adamsja01  Jaylen Adams     188    86     1996                Maryland   ATL   \n",
       "adamsst01  Steven Adams     211   120     1993             New Zealand   OKC   \n",
       "adebaba01   Bam Adebayo     206   115     1997              New Jersey   MIA   \n",
       "...                 ...     ...   ...      ...                     ...   ...   \n",
       "youngtr01    Trae Young     185    81     1998                   Texas   ATL   \n",
       "zelleco01   Cody Zeller     213   108     1992                 Indiana   CHO   \n",
       "zellety01  Tyler Zeller     213   114     1990              California   TOT   \n",
       "zizican01    Ante Žižić     208   115     1997                 Croatia   CLE   \n",
       "zubaciv01   Ivica Zubac     213   108     1997  Bosnia and Herzegovina   TOT   \n",
       "\n",
       "          pozicija  GP  MP_game  Tri_game  Tri_pct  FT_game  FT_pct  RPG  APG  \\\n",
       "ID                                                                              \n",
       "abrinal01       SG  31     19.0       1.3    0.323      0.4   0.923  1.5  0.6   \n",
       "acyqu01         PF  10     12.3       0.2    0.133      0.7   0.700  2.5  0.8   \n",
       "adamsja01       PG  34     12.6       0.7    0.338      0.2   0.778  1.8  1.9   \n",
       "adamsst01        C  80     33.4       0.0    0.000      1.8   0.500  9.5  1.6   \n",
       "adebaba01        C  82     23.3       0.0    0.200      2.0   0.735  7.3  2.2   \n",
       "...            ...  ..      ...       ...      ...      ...     ...  ...  ...   \n",
       "youngtr01       PG  81     30.9       1.9    0.324      4.2   0.829  3.7  8.1   \n",
       "zelleco01        C  49     25.4       0.1    0.273      2.3   0.787  6.8  2.1   \n",
       "zellety01        C   6     15.5       0.0    0.000      2.3   0.778  4.0  0.7   \n",
       "zizican01        C  59     18.3       0.0      NaN      1.6   0.705  5.4  0.9   \n",
       "zubaciv01        C  59     17.6       0.0      NaN      1.7   0.802  6.1  1.1   \n",
       "\n",
       "            PPG  \n",
       "ID               \n",
       "abrinal01   5.3  \n",
       "acyqu01     1.7  \n",
       "adamsja01   3.2  \n",
       "adamsst01  13.9  \n",
       "adebaba01   8.9  \n",
       "...         ...  \n",
       "youngtr01  19.1  \n",
       "zelleco01  10.1  \n",
       "zellety01   7.7  \n",
       "zizican01   7.8  \n",
       "zubaciv01   8.9  \n",
       "\n",
       "[530 rows x 16 columns]"
      ]
     },
     "execution_count": 2,
     "metadata": {},
     "output_type": "execute_result"
    }
   ],
   "source": [
    "#odstranimo stolpec geslo\n",
    "del podatki_surovo['geslo']   \n",
    "#spremenimo ime stolpca\n",
    "podatki_surovo.rename(columns={'Tri_FG':'Tri_game'}, inplace=True)  \n",
    "podatki_surovo"
   ]
  },
  {
   "cell_type": "markdown",
   "metadata": {},
   "source": [
    "### LEGENDA:\n",
    "GP -- koliko tekem je igralec odigral v sezoni <br>\n",
    "MP_game -- koliko minut na tekmo igra v povprečju <br>\n",
    "Tri_game -- koliko trojk na tekmo zadane v povprečju <br>\n",
    "Tri_pct -- kolikšen ima procent zadetih trojk <br>\n",
    "FT_game -- koliko prostih metov zadane na tekmo v povprečju <br>\n",
    "FT_pct -- kolikšen ima procent zadetih prostih metov <br>\n",
    "RPG -- skoki na tekmo <br>\n",
    "APG -- asistence na tekmo <br>\n",
    "PPG -- točke na tekmo "
   ]
  },
  {
   "cell_type": "markdown",
   "metadata": {},
   "source": [
    "#### Igralci po državah"
   ]
  },
  {
   "cell_type": "markdown",
   "metadata": {},
   "source": [
    "poglejmo si koliko igralcev prihaja iz posamezne države. Tu se vsaka zvezna država iz ZDA upošteva posebej. Kljub temu so te zvezne države na prvih mestih, torej je res večina igralcev iz ZDA. Prikazal sem najpogostejših 25 držav."
   ]
  },
  {
   "cell_type": "code",
   "execution_count": 94,
   "metadata": {},
   "outputs": [],
   "source": [
    "podatki_po_drzavah = podatki_surovo.groupby('država').count()\n",
    "podatki_po_drzavah = podatki_po_drzavah.sort_values('ime_priimek', ascending=False)"
   ]
  },
  {
   "cell_type": "code",
   "execution_count": 139,
   "metadata": {},
   "outputs": [
    {
     "data": {
      "text/plain": [
       "<AxesSubplot:title={'center':'Število igralcev iz posamezne države'}, xlabel='država'>"
      ]
     },
     "execution_count": 139,
     "metadata": {},
     "output_type": "execute_result"
    },
    {
     "data": {
      "image/png": "[encoded data removed]",
      "text/plain": [
       "<Figure size 1224x432 with 1 Axes>"
      ]
     },
     "metadata": {
      "needs_background": "light"
     },
     "output_type": "display_data"
    }
   ],
   "source": [
    "podatki_po_drzavah['ime_priimek'].head(25).plot.bar(title= 'Število igralcev iz posamezne države', figsize=(17,6), grid=True)"
   ]
  },
  {
   "cell_type": "markdown",
   "metadata": {},
   "source": [
    "#### Višina igralcev glede na pozicijo"
   ]
  },
  {
   "cell_type": "markdown",
   "metadata": {},
   "source": [
    "C - center (center)  <br>\n",
    "PF - power forward (krilni center) <br>\n",
    "SF - small forward (krilo) <br>\n",
    "SG - shooting guard (branilec) <br>\n",
    "PG - point guard (organizator igre) <br>"
   ]
  },
  {
   "cell_type": "markdown",
   "metadata": {},
   "source": [
    "Igralce grupiramo glede na pozicijo na kateri igrajo in predstavimo njihovo višino. V grafu vidimo da imajo najnižjo povprečno višino igralci ki igrajo na poziciji organizatorja igre. Višina igralcev na tej poziciji tudi najbolj varira. Po pričakovanju so najvišji igralci na poziciji centra in krilnega centra."
   ]
  },
  {
   "cell_type": "code",
   "execution_count": 39,
   "metadata": {},
   "outputs": [
    {
     "data": {
      "text/plain": [
       "<AxesSubplot:title={'center':'višina'}, xlabel='pozicija'>"
      ]
     },
     "execution_count": 39,
     "metadata": {},
     "output_type": "execute_result"
    },
    {
     "data": {
      "image/png": "[encoded data removed]",
      "text/plain": [
       "<Figure size 792x432 with 1 Axes>"
      ]
     },
     "metadata": {
      "needs_background": "light"
     },
     "output_type": "display_data"
    }
   ],
   "source": [
    "#podatki_po_pozicijah = podatki_surovo.groupby('pozicija', as_index=False)['višina'].mean().sort_values('višina', ascending=False)\n",
    "#podatki_po_pozicijah = podatki_po_pozicijah.drop([1,3,4,7], axis=0)\n",
    "podatki_pozicija = podatki_surovo[(podatki_surovo.pozicija !='C,PF')&\n",
    "                                  (podatki_surovo.pozicija !='PF,SF')&\n",
    "                                 (podatki_surovo.pozicija !='PF,SG')&\n",
    "                                 (podatki_surovo.pozicija !='SF,SG')]\n",
    "podatki_pozicija.boxplot(by='pozicija', column='višina', showfliers=False, figsize=(11,6), fontsize=12, grid=True)\n",
    "#podatki_surovo.groupby('pozicija').count()"
   ]
  },
  {
   "cell_type": "markdown",
   "metadata": {},
   "source": [
    "#### Prikaz igralcev glede na starost"
   ]
  },
  {
   "cell_type": "markdown",
   "metadata": {},
   "source": [
    "S krožnim diagramom bomo predstavili kakšna je bila najpogostejša starost igralcev v sezoni 18/19. Vidimo da je največ igralcev starih od 21 do 26 let, najvišja starost pa je bila kar 41 let."
   ]
  },
  {
   "cell_type": "code",
   "execution_count": 73,
   "metadata": {},
   "outputs": [],
   "source": [
    "podatki_starost = podatki_surovo\n",
    "podatki_starost['starost'] = 2018 - podatki_starost['rojstvo']"
   ]
  },
  {
   "cell_type": "code",
   "execution_count": 35,
   "metadata": {},
   "outputs": [
    {
     "data": {
      "text/plain": [
       "Text(0, 0.5, '')"
      ]
     },
     "execution_count": 35,
     "metadata": {},
     "output_type": "execute_result"
    },
    {
     "data": {
      "image/png": "[encoded data removed]",
      "text/plain": [
       "<Figure size 864x864 with 1 Axes>"
      ]
     },
     "metadata": {},
     "output_type": "display_data"
    }
   ],
   "source": [
    "explode = (0, 0, 0, 0, 0, 0, 0, 0, 0, 0, 0, 0.03,0.07,0.1,0.12, 0.15, 0.2, 0.25, 0.3,0.4, 0.5,0.6)\n",
    "podatki_starost['starost'].value_counts().plot(kind='pie', figsize=(12, 12), fontsize=10, \n",
    "                                               explode=explode, labeldistance=1.05, title='Delež igralcev po starosti')\n",
    "plt.ylabel('')"
   ]
  },
  {
   "cell_type": "markdown",
   "metadata": {},
   "source": [
    "#### Povezava med procentom meta in višino/težo igralca"
   ]
  },
  {
   "cell_type": "markdown",
   "metadata": {},
   "source": [
    "S pomočjo razsevnega diagrama si poglejmo kako višina in teža vplivata na procent meta za tri točke. Za bolj zanesljive podatke sem vzel le igralce, ki so igrali vsaj 10 tekem in metali vsaj 0.5 trojk na tekmo. vidimo, da pri metu za tri točke povezava ni očitna, torej ne velja splošno prepričanje da so višji igralci manj natančni."
   ]
  },
  {
   "cell_type": "code",
   "execution_count": 6,
   "metadata": {},
   "outputs": [],
   "source": [
    "def naredi_scatter(stolpec_ena, omejitev_ena, stolpec_dva, omejitev_dva, x, y, title, color):\n",
    "    podatki_scatter = podatki_surovo[(stolpec_ena >= omejitev_ena) & (stolpec_dva >= omejitev_dva) ]\n",
    "    podatki_scatter.plot.scatter(x=x, y=y, title=title, color=color)"
   ]
  },
  {
   "cell_type": "code",
   "execution_count": 18,
   "metadata": {},
   "outputs": [
    {
     "data": {
      "image/png": "[encoded data removed]",
      "text/plain": [
       "<Figure size 432x288 with 1 Axes>"
      ]
     },
     "metadata": {
      "needs_background": "light"
     },
     "output_type": "display_data"
    }
   ],
   "source": [
    "naredi_scatter(podatki_surovo.GP, 10, podatki_surovo.Tri_game, 0.5, 'višina', 'Tri_pct', \n",
    "               'Povezava procenta zadetih trojk in višine', \"LightSeaGreen\")"
   ]
  },
  {
   "cell_type": "code",
   "execution_count": 17,
   "metadata": {},
   "outputs": [
    {
     "data": {
      "image/png": "[encoded data removed]",
      "text/plain": [
       "<Figure size 432x288 with 1 Axes>"
      ]
     },
     "metadata": {
      "needs_background": "light"
     },
     "output_type": "display_data"
    }
   ],
   "source": [
    "naredi_scatter(podatki_surovo.GP, 10, podatki_surovo.Tri_game, 0.5, 'teža', 'Tri_pct', \n",
    "               'Povezava procenta zadetih trojk in teže', \"Blue\")"
   ]
  },
  {
   "cell_type": "markdown",
   "metadata": {},
   "source": [
    "Zgornji podatki pa lahko zavajajo, saj meti za tri točke niso najboljše merilo. Višji igralci se manj pogosto odločajo za ta met, kar nam potrdi spodnji razsevni diagram"
   ]
  },
  {
   "cell_type": "code",
   "execution_count": 36,
   "metadata": {},
   "outputs": [
    {
     "data": {
      "image/png": "[encoded data removed]",
      "text/plain": [
       "<Figure size 432x288 with 1 Axes>"
      ]
     },
     "metadata": {
      "needs_background": "light"
     },
     "output_type": "display_data"
    }
   ],
   "source": [
    "naredi_scatter(podatki_surovo.GP, 10, podatki_surovo.PPG, 10, 'višina', 'Tri_game', \n",
    "               'Povezava zadetih trojk na tekmo in višine', \"Red\")"
   ]
  },
  {
   "cell_type": "markdown",
   "metadata": {},
   "source": [
    "V spodnjih dveh razsevnih diagramih sem preverjal povezavo med procentom zadetih prostih metov in višino ter težo. Tokrat je mogoče opaziti negativno povezanost med procentom meta in višino oziroma težo igralca. Lahko tudi opazimo, da ima teža večji vpliv kot višina. Prosti meti so tudi bolj natančno merilo saj imajo pri njem vsi igralci enake pogoje, zato lahko potrdimo hipotezo da so višji in težji igralci manj natančni."
   ]
  },
  {
   "cell_type": "code",
   "execution_count": 15,
   "metadata": {},
   "outputs": [
    {
     "data": {
      "image/png": "[encoded data removed]",
      "text/plain": [
       "<Figure size 432x288 with 1 Axes>"
      ]
     },
     "metadata": {
      "needs_background": "light"
     },
     "output_type": "display_data"
    }
   ],
   "source": [
    "naredi_scatter(podatki_surovo.GP, 10, podatki_surovo.FT_game, 0.5, 'višina', 'FT_pct', \n",
    "               'Povezava procenta zadetih prostih metov in višine', \"LightSeaGreen\")"
   ]
  },
  {
   "cell_type": "code",
   "execution_count": 14,
   "metadata": {},
   "outputs": [
    {
     "data": {
      "image/png": "[encoded data removed]",
      "text/plain": [
       "<Figure size 432x288 with 1 Axes>"
      ]
     },
     "metadata": {
      "needs_background": "light"
     },
     "output_type": "display_data"
    }
   ],
   "source": [
    "naredi_scatter(podatki_surovo.GP, 10, podatki_surovo.FT_game, 0.5, 'teža', 'FT_pct', \n",
    "               'Povezava procenta zadetih prostih metov in teže', \"Blue\")"
   ]
  },
  {
   "cell_type": "markdown",
   "metadata": {},
   "source": [
    "#### Kdo ima najboljši in najslabši procent zadetih trojk"
   ]
  },
  {
   "cell_type": "markdown",
   "metadata": {},
   "source": [
    "Poiščimo igralce z najboljšim procentom zadetih trojk. Za boljšo natančnost postavimo pogoj da je igral vsaj 25 tekem in metal vsaj 0.8 trojk na tekmo. V tabeli res najdemo nekaj najbolj znanih strelcev lige. Zanimivo je, da je na četrtem mestu igralec, ki je visok kar 213 centimetrov."
   ]
  },
  {
   "cell_type": "code",
   "execution_count": 70,
   "metadata": {},
   "outputs": [],
   "source": [
    "def naredi_tabelo(stolpec_ena, omejitev_ena, stolpec_dva, omejitev_dva, stolpci_za_prikaz, ureditev, narascujoce):\n",
    "    return podatki_surovo[(stolpec_ena >= omejitev_ena) & (stolpec_dva >= omejitev_dva)\n",
    "                         ][ stolpci_za_prikaz ].sort_values(ureditev, ascending = narascujoce).head(10).style.hide_index()"
   ]
  },
  {
   "cell_type": "code",
   "execution_count": 69,
   "metadata": {},
   "outputs": [
    {
     "data": {
      "text/html": [
       "<style  type=\"text/css\" >\n",
       "</style><table id=\"T_ebfd9d6c_e7b7_11ea_a554_9a1fe59a7677\" ><thead>    <tr>        <th class=\"col_heading level0 col0\" >ime_priimek</th>        <th class=\"col_heading level0 col1\" >višina</th>        <th class=\"col_heading level0 col2\" >teža</th>        <th class=\"col_heading level0 col3\" >rojstvo</th>        <th class=\"col_heading level0 col4\" >država</th>        <th class=\"col_heading level0 col5\" >ekipa</th>        <th class=\"col_heading level0 col6\" >pozicija</th>        <th class=\"col_heading level0 col7\" >GP</th>        <th class=\"col_heading level0 col8\" >MP_game</th>        <th class=\"col_heading level0 col9\" >Tri_game</th>        <th class=\"col_heading level0 col10\" >Tri_pct</th>        <th class=\"col_heading level0 col11\" >PPG</th>    </tr></thead><tbody>\n",
       "                <tr>\n",
       "                                <td id=\"T_ebfd9d6c_e7b7_11ea_a554_9a1fe59a7677row0_col0\" class=\"data row0 col0\" >Alex Caruso</td>\n",
       "                        <td id=\"T_ebfd9d6c_e7b7_11ea_a554_9a1fe59a7677row0_col1\" class=\"data row0 col1\" >196</td>\n",
       "                        <td id=\"T_ebfd9d6c_e7b7_11ea_a554_9a1fe59a7677row0_col2\" class=\"data row0 col2\" >84</td>\n",
       "                        <td id=\"T_ebfd9d6c_e7b7_11ea_a554_9a1fe59a7677row0_col3\" class=\"data row0 col3\" >1994</td>\n",
       "                        <td id=\"T_ebfd9d6c_e7b7_11ea_a554_9a1fe59a7677row0_col4\" class=\"data row0 col4\" >Texas</td>\n",
       "                        <td id=\"T_ebfd9d6c_e7b7_11ea_a554_9a1fe59a7677row0_col5\" class=\"data row0 col5\" >LAL</td>\n",
       "                        <td id=\"T_ebfd9d6c_e7b7_11ea_a554_9a1fe59a7677row0_col6\" class=\"data row0 col6\" >PG</td>\n",
       "                        <td id=\"T_ebfd9d6c_e7b7_11ea_a554_9a1fe59a7677row0_col7\" class=\"data row0 col7\" >25</td>\n",
       "                        <td id=\"T_ebfd9d6c_e7b7_11ea_a554_9a1fe59a7677row0_col8\" class=\"data row0 col8\" >21.2</td>\n",
       "                        <td id=\"T_ebfd9d6c_e7b7_11ea_a554_9a1fe59a7677row0_col9\" class=\"data row0 col9\" >1</td>\n",
       "                        <td id=\"T_ebfd9d6c_e7b7_11ea_a554_9a1fe59a7677row0_col10\" class=\"data row0 col10\" >0.48</td>\n",
       "                        <td id=\"T_ebfd9d6c_e7b7_11ea_a554_9a1fe59a7677row0_col11\" class=\"data row0 col11\" >9.2</td>\n",
       "            </tr>\n",
       "            <tr>\n",
       "                                <td id=\"T_ebfd9d6c_e7b7_11ea_a554_9a1fe59a7677row1_col0\" class=\"data row1 col0\" >Joe Harris</td>\n",
       "                        <td id=\"T_ebfd9d6c_e7b7_11ea_a554_9a1fe59a7677row1_col1\" class=\"data row1 col1\" >198</td>\n",
       "                        <td id=\"T_ebfd9d6c_e7b7_11ea_a554_9a1fe59a7677row1_col2\" class=\"data row1 col2\" >99</td>\n",
       "                        <td id=\"T_ebfd9d6c_e7b7_11ea_a554_9a1fe59a7677row1_col3\" class=\"data row1 col3\" >1991</td>\n",
       "                        <td id=\"T_ebfd9d6c_e7b7_11ea_a554_9a1fe59a7677row1_col4\" class=\"data row1 col4\" >Washington</td>\n",
       "                        <td id=\"T_ebfd9d6c_e7b7_11ea_a554_9a1fe59a7677row1_col5\" class=\"data row1 col5\" >BRK</td>\n",
       "                        <td id=\"T_ebfd9d6c_e7b7_11ea_a554_9a1fe59a7677row1_col6\" class=\"data row1 col6\" >SG</td>\n",
       "                        <td id=\"T_ebfd9d6c_e7b7_11ea_a554_9a1fe59a7677row1_col7\" class=\"data row1 col7\" >76</td>\n",
       "                        <td id=\"T_ebfd9d6c_e7b7_11ea_a554_9a1fe59a7677row1_col8\" class=\"data row1 col8\" >30.2</td>\n",
       "                        <td id=\"T_ebfd9d6c_e7b7_11ea_a554_9a1fe59a7677row1_col9\" class=\"data row1 col9\" >2.4</td>\n",
       "                        <td id=\"T_ebfd9d6c_e7b7_11ea_a554_9a1fe59a7677row1_col10\" class=\"data row1 col10\" >0.474</td>\n",
       "                        <td id=\"T_ebfd9d6c_e7b7_11ea_a554_9a1fe59a7677row1_col11\" class=\"data row1 col11\" >13.7</td>\n",
       "            </tr>\n",
       "            <tr>\n",
       "                                <td id=\"T_ebfd9d6c_e7b7_11ea_a554_9a1fe59a7677row2_col0\" class=\"data row2 col0\" >Danny Green</td>\n",
       "                        <td id=\"T_ebfd9d6c_e7b7_11ea_a554_9a1fe59a7677row2_col1\" class=\"data row2 col1\" >198</td>\n",
       "                        <td id=\"T_ebfd9d6c_e7b7_11ea_a554_9a1fe59a7677row2_col2\" class=\"data row2 col2\" >97</td>\n",
       "                        <td id=\"T_ebfd9d6c_e7b7_11ea_a554_9a1fe59a7677row2_col3\" class=\"data row2 col3\" >1987</td>\n",
       "                        <td id=\"T_ebfd9d6c_e7b7_11ea_a554_9a1fe59a7677row2_col4\" class=\"data row2 col4\" >New York</td>\n",
       "                        <td id=\"T_ebfd9d6c_e7b7_11ea_a554_9a1fe59a7677row2_col5\" class=\"data row2 col5\" >TOR</td>\n",
       "                        <td id=\"T_ebfd9d6c_e7b7_11ea_a554_9a1fe59a7677row2_col6\" class=\"data row2 col6\" >SG</td>\n",
       "                        <td id=\"T_ebfd9d6c_e7b7_11ea_a554_9a1fe59a7677row2_col7\" class=\"data row2 col7\" >80</td>\n",
       "                        <td id=\"T_ebfd9d6c_e7b7_11ea_a554_9a1fe59a7677row2_col8\" class=\"data row2 col8\" >27.7</td>\n",
       "                        <td id=\"T_ebfd9d6c_e7b7_11ea_a554_9a1fe59a7677row2_col9\" class=\"data row2 col9\" >2.5</td>\n",
       "                        <td id=\"T_ebfd9d6c_e7b7_11ea_a554_9a1fe59a7677row2_col10\" class=\"data row2 col10\" >0.455</td>\n",
       "                        <td id=\"T_ebfd9d6c_e7b7_11ea_a554_9a1fe59a7677row2_col11\" class=\"data row2 col11\" >10.3</td>\n",
       "            </tr>\n",
       "            <tr>\n",
       "                                <td id=\"T_ebfd9d6c_e7b7_11ea_a554_9a1fe59a7677row3_col0\" class=\"data row3 col0\" >Meyers Leonard</td>\n",
       "                        <td id=\"T_ebfd9d6c_e7b7_11ea_a554_9a1fe59a7677row3_col1\" class=\"data row3 col1\" >213</td>\n",
       "                        <td id=\"T_ebfd9d6c_e7b7_11ea_a554_9a1fe59a7677row3_col2\" class=\"data row3 col2\" >117</td>\n",
       "                        <td id=\"T_ebfd9d6c_e7b7_11ea_a554_9a1fe59a7677row3_col3\" class=\"data row3 col3\" >1992</td>\n",
       "                        <td id=\"T_ebfd9d6c_e7b7_11ea_a554_9a1fe59a7677row3_col4\" class=\"data row3 col4\" >Illinois</td>\n",
       "                        <td id=\"T_ebfd9d6c_e7b7_11ea_a554_9a1fe59a7677row3_col5\" class=\"data row3 col5\" >POR</td>\n",
       "                        <td id=\"T_ebfd9d6c_e7b7_11ea_a554_9a1fe59a7677row3_col6\" class=\"data row3 col6\" >C</td>\n",
       "                        <td id=\"T_ebfd9d6c_e7b7_11ea_a554_9a1fe59a7677row3_col7\" class=\"data row3 col7\" >61</td>\n",
       "                        <td id=\"T_ebfd9d6c_e7b7_11ea_a554_9a1fe59a7677row3_col8\" class=\"data row3 col8\" >14.4</td>\n",
       "                        <td id=\"T_ebfd9d6c_e7b7_11ea_a554_9a1fe59a7677row3_col9\" class=\"data row3 col9\" >0.8</td>\n",
       "                        <td id=\"T_ebfd9d6c_e7b7_11ea_a554_9a1fe59a7677row3_col10\" class=\"data row3 col10\" >0.45</td>\n",
       "                        <td id=\"T_ebfd9d6c_e7b7_11ea_a554_9a1fe59a7677row3_col11\" class=\"data row3 col11\" >5.9</td>\n",
       "            </tr>\n",
       "            <tr>\n",
       "                                <td id=\"T_ebfd9d6c_e7b7_11ea_a554_9a1fe59a7677row4_col0\" class=\"data row4 col0\" >Seth Curry</td>\n",
       "                        <td id=\"T_ebfd9d6c_e7b7_11ea_a554_9a1fe59a7677row4_col1\" class=\"data row4 col1\" >188</td>\n",
       "                        <td id=\"T_ebfd9d6c_e7b7_11ea_a554_9a1fe59a7677row4_col2\" class=\"data row4 col2\" >83</td>\n",
       "                        <td id=\"T_ebfd9d6c_e7b7_11ea_a554_9a1fe59a7677row4_col3\" class=\"data row4 col3\" >1990</td>\n",
       "                        <td id=\"T_ebfd9d6c_e7b7_11ea_a554_9a1fe59a7677row4_col4\" class=\"data row4 col4\" >North Carolina</td>\n",
       "                        <td id=\"T_ebfd9d6c_e7b7_11ea_a554_9a1fe59a7677row4_col5\" class=\"data row4 col5\" >POR</td>\n",
       "                        <td id=\"T_ebfd9d6c_e7b7_11ea_a554_9a1fe59a7677row4_col6\" class=\"data row4 col6\" >SG</td>\n",
       "                        <td id=\"T_ebfd9d6c_e7b7_11ea_a554_9a1fe59a7677row4_col7\" class=\"data row4 col7\" >74</td>\n",
       "                        <td id=\"T_ebfd9d6c_e7b7_11ea_a554_9a1fe59a7677row4_col8\" class=\"data row4 col8\" >18.9</td>\n",
       "                        <td id=\"T_ebfd9d6c_e7b7_11ea_a554_9a1fe59a7677row4_col9\" class=\"data row4 col9\" >1.5</td>\n",
       "                        <td id=\"T_ebfd9d6c_e7b7_11ea_a554_9a1fe59a7677row4_col10\" class=\"data row4 col10\" >0.45</td>\n",
       "                        <td id=\"T_ebfd9d6c_e7b7_11ea_a554_9a1fe59a7677row4_col11\" class=\"data row4 col11\" >7.9</td>\n",
       "            </tr>\n",
       "            <tr>\n",
       "                                <td id=\"T_ebfd9d6c_e7b7_11ea_a554_9a1fe59a7677row5_col0\" class=\"data row5 col0\" >Dwayne Bacon</td>\n",
       "                        <td id=\"T_ebfd9d6c_e7b7_11ea_a554_9a1fe59a7677row5_col1\" class=\"data row5 col1\" >198</td>\n",
       "                        <td id=\"T_ebfd9d6c_e7b7_11ea_a554_9a1fe59a7677row5_col2\" class=\"data row5 col2\" >100</td>\n",
       "                        <td id=\"T_ebfd9d6c_e7b7_11ea_a554_9a1fe59a7677row5_col3\" class=\"data row5 col3\" >1995</td>\n",
       "                        <td id=\"T_ebfd9d6c_e7b7_11ea_a554_9a1fe59a7677row5_col4\" class=\"data row5 col4\" >Florida</td>\n",
       "                        <td id=\"T_ebfd9d6c_e7b7_11ea_a554_9a1fe59a7677row5_col5\" class=\"data row5 col5\" >CHO</td>\n",
       "                        <td id=\"T_ebfd9d6c_e7b7_11ea_a554_9a1fe59a7677row5_col6\" class=\"data row5 col6\" >SG</td>\n",
       "                        <td id=\"T_ebfd9d6c_e7b7_11ea_a554_9a1fe59a7677row5_col7\" class=\"data row5 col7\" >43</td>\n",
       "                        <td id=\"T_ebfd9d6c_e7b7_11ea_a554_9a1fe59a7677row5_col8\" class=\"data row5 col8\" >17.7</td>\n",
       "                        <td id=\"T_ebfd9d6c_e7b7_11ea_a554_9a1fe59a7677row5_col9\" class=\"data row5 col9\" >0.9</td>\n",
       "                        <td id=\"T_ebfd9d6c_e7b7_11ea_a554_9a1fe59a7677row5_col10\" class=\"data row5 col10\" >0.437</td>\n",
       "                        <td id=\"T_ebfd9d6c_e7b7_11ea_a554_9a1fe59a7677row5_col11\" class=\"data row5 col11\" >7.3</td>\n",
       "            </tr>\n",
       "            <tr>\n",
       "                                <td id=\"T_ebfd9d6c_e7b7_11ea_a554_9a1fe59a7677row6_col0\" class=\"data row6 col0\" >Stephen Curry</td>\n",
       "                        <td id=\"T_ebfd9d6c_e7b7_11ea_a554_9a1fe59a7677row6_col1\" class=\"data row6 col1\" >190</td>\n",
       "                        <td id=\"T_ebfd9d6c_e7b7_11ea_a554_9a1fe59a7677row6_col2\" class=\"data row6 col2\" >86</td>\n",
       "                        <td id=\"T_ebfd9d6c_e7b7_11ea_a554_9a1fe59a7677row6_col3\" class=\"data row6 col3\" >1988</td>\n",
       "                        <td id=\"T_ebfd9d6c_e7b7_11ea_a554_9a1fe59a7677row6_col4\" class=\"data row6 col4\" >Ohio</td>\n",
       "                        <td id=\"T_ebfd9d6c_e7b7_11ea_a554_9a1fe59a7677row6_col5\" class=\"data row6 col5\" >GSW</td>\n",
       "                        <td id=\"T_ebfd9d6c_e7b7_11ea_a554_9a1fe59a7677row6_col6\" class=\"data row6 col6\" >PG</td>\n",
       "                        <td id=\"T_ebfd9d6c_e7b7_11ea_a554_9a1fe59a7677row6_col7\" class=\"data row6 col7\" >69</td>\n",
       "                        <td id=\"T_ebfd9d6c_e7b7_11ea_a554_9a1fe59a7677row6_col8\" class=\"data row6 col8\" >33.8</td>\n",
       "                        <td id=\"T_ebfd9d6c_e7b7_11ea_a554_9a1fe59a7677row6_col9\" class=\"data row6 col9\" >5.1</td>\n",
       "                        <td id=\"T_ebfd9d6c_e7b7_11ea_a554_9a1fe59a7677row6_col10\" class=\"data row6 col10\" >0.437</td>\n",
       "                        <td id=\"T_ebfd9d6c_e7b7_11ea_a554_9a1fe59a7677row6_col11\" class=\"data row6 col11\" >27.3</td>\n",
       "            </tr>\n",
       "            <tr>\n",
       "                                <td id=\"T_ebfd9d6c_e7b7_11ea_a554_9a1fe59a7677row7_col0\" class=\"data row7 col0\" >Danilo Gallinari</td>\n",
       "                        <td id=\"T_ebfd9d6c_e7b7_11ea_a554_9a1fe59a7677row7_col1\" class=\"data row7 col1\" >208</td>\n",
       "                        <td id=\"T_ebfd9d6c_e7b7_11ea_a554_9a1fe59a7677row7_col2\" class=\"data row7 col2\" >105</td>\n",
       "                        <td id=\"T_ebfd9d6c_e7b7_11ea_a554_9a1fe59a7677row7_col3\" class=\"data row7 col3\" >1988</td>\n",
       "                        <td id=\"T_ebfd9d6c_e7b7_11ea_a554_9a1fe59a7677row7_col4\" class=\"data row7 col4\" >Italy</td>\n",
       "                        <td id=\"T_ebfd9d6c_e7b7_11ea_a554_9a1fe59a7677row7_col5\" class=\"data row7 col5\" >LAC</td>\n",
       "                        <td id=\"T_ebfd9d6c_e7b7_11ea_a554_9a1fe59a7677row7_col6\" class=\"data row7 col6\" >SF</td>\n",
       "                        <td id=\"T_ebfd9d6c_e7b7_11ea_a554_9a1fe59a7677row7_col7\" class=\"data row7 col7\" >68</td>\n",
       "                        <td id=\"T_ebfd9d6c_e7b7_11ea_a554_9a1fe59a7677row7_col8\" class=\"data row7 col8\" >30.3</td>\n",
       "                        <td id=\"T_ebfd9d6c_e7b7_11ea_a554_9a1fe59a7677row7_col9\" class=\"data row7 col9\" >2.4</td>\n",
       "                        <td id=\"T_ebfd9d6c_e7b7_11ea_a554_9a1fe59a7677row7_col10\" class=\"data row7 col10\" >0.433</td>\n",
       "                        <td id=\"T_ebfd9d6c_e7b7_11ea_a554_9a1fe59a7677row7_col11\" class=\"data row7 col11\" >19.8</td>\n",
       "            </tr>\n",
       "            <tr>\n",
       "                                <td id=\"T_ebfd9d6c_e7b7_11ea_a554_9a1fe59a7677row8_col0\" class=\"data row8 col0\" >E'Twaun Moore</td>\n",
       "                        <td id=\"T_ebfd9d6c_e7b7_11ea_a554_9a1fe59a7677row8_col1\" class=\"data row8 col1\" >190</td>\n",
       "                        <td id=\"T_ebfd9d6c_e7b7_11ea_a554_9a1fe59a7677row8_col2\" class=\"data row8 col2\" >86</td>\n",
       "                        <td id=\"T_ebfd9d6c_e7b7_11ea_a554_9a1fe59a7677row8_col3\" class=\"data row8 col3\" >1989</td>\n",
       "                        <td id=\"T_ebfd9d6c_e7b7_11ea_a554_9a1fe59a7677row8_col4\" class=\"data row8 col4\" >Indiana</td>\n",
       "                        <td id=\"T_ebfd9d6c_e7b7_11ea_a554_9a1fe59a7677row8_col5\" class=\"data row8 col5\" >NOP</td>\n",
       "                        <td id=\"T_ebfd9d6c_e7b7_11ea_a554_9a1fe59a7677row8_col6\" class=\"data row8 col6\" >SG</td>\n",
       "                        <td id=\"T_ebfd9d6c_e7b7_11ea_a554_9a1fe59a7677row8_col7\" class=\"data row8 col7\" >53</td>\n",
       "                        <td id=\"T_ebfd9d6c_e7b7_11ea_a554_9a1fe59a7677row8_col8\" class=\"data row8 col8\" >27.6</td>\n",
       "                        <td id=\"T_ebfd9d6c_e7b7_11ea_a554_9a1fe59a7677row8_col9\" class=\"data row8 col9\" >1.4</td>\n",
       "                        <td id=\"T_ebfd9d6c_e7b7_11ea_a554_9a1fe59a7677row8_col10\" class=\"data row8 col10\" >0.432</td>\n",
       "                        <td id=\"T_ebfd9d6c_e7b7_11ea_a554_9a1fe59a7677row8_col11\" class=\"data row8 col11\" >11.9</td>\n",
       "            </tr>\n",
       "            <tr>\n",
       "                                <td id=\"T_ebfd9d6c_e7b7_11ea_a554_9a1fe59a7677row9_col0\" class=\"data row9 col0\" >Dāvis Bertāns</td>\n",
       "                        <td id=\"T_ebfd9d6c_e7b7_11ea_a554_9a1fe59a7677row9_col1\" class=\"data row9 col1\" >208</td>\n",
       "                        <td id=\"T_ebfd9d6c_e7b7_11ea_a554_9a1fe59a7677row9_col2\" class=\"data row9 col2\" >102</td>\n",
       "                        <td id=\"T_ebfd9d6c_e7b7_11ea_a554_9a1fe59a7677row9_col3\" class=\"data row9 col3\" >1992</td>\n",
       "                        <td id=\"T_ebfd9d6c_e7b7_11ea_a554_9a1fe59a7677row9_col4\" class=\"data row9 col4\" >Latvia</td>\n",
       "                        <td id=\"T_ebfd9d6c_e7b7_11ea_a554_9a1fe59a7677row9_col5\" class=\"data row9 col5\" >SAS</td>\n",
       "                        <td id=\"T_ebfd9d6c_e7b7_11ea_a554_9a1fe59a7677row9_col6\" class=\"data row9 col6\" >PF</td>\n",
       "                        <td id=\"T_ebfd9d6c_e7b7_11ea_a554_9a1fe59a7677row9_col7\" class=\"data row9 col7\" >76</td>\n",
       "                        <td id=\"T_ebfd9d6c_e7b7_11ea_a554_9a1fe59a7677row9_col8\" class=\"data row9 col8\" >21.5</td>\n",
       "                        <td id=\"T_ebfd9d6c_e7b7_11ea_a554_9a1fe59a7677row9_col9\" class=\"data row9 col9\" >1.9</td>\n",
       "                        <td id=\"T_ebfd9d6c_e7b7_11ea_a554_9a1fe59a7677row9_col10\" class=\"data row9 col10\" >0.429</td>\n",
       "                        <td id=\"T_ebfd9d6c_e7b7_11ea_a554_9a1fe59a7677row9_col11\" class=\"data row9 col11\" >8</td>\n",
       "            </tr>\n",
       "    </tbody></table>"
      ],
      "text/plain": [
       "<pandas.io.formats.style.Styler at 0x14a8d9b0>"
      ]
     },
     "execution_count": 69,
     "metadata": {},
     "output_type": "execute_result"
    }
   ],
   "source": [
    "stolpci = ['ime_priimek', 'višina', 'teža', 'rojstvo', 'država', 'ekipa', 'pozicija', 'GP', 'MP_game', \n",
    "                     'Tri_game', 'Tri_pct', 'PPG']\n",
    "naredi_tabelo(podatki_surovo.GP, 25, podatki_surovo.Tri_game, 0.8, stolpci, 'Tri_pct', False)"
   ]
  },
  {
   "cell_type": "markdown",
   "metadata": {},
   "source": [
    "Kdo pa so igralci z najslabšim procentom zadetih metov za tri točke. Tokrat vzamemo strožji pogoj in sicer, da je igral vsaj 40 tekem in metal vsaj 1.5 trojk na tekmo."
   ]
  },
  {
   "cell_type": "code",
   "execution_count": 64,
   "metadata": {},
   "outputs": [
    {
     "data": {
      "text/html": [
       "<style  type=\"text/css\" >\n",
       "</style><table id=\"T_96be1e8a_e7b7_11ea_bbae_9a1fe59a7677\" ><thead>    <tr>        <th class=\"col_heading level0 col0\" >ime_priimek</th>        <th class=\"col_heading level0 col1\" >višina</th>        <th class=\"col_heading level0 col2\" >teža</th>        <th class=\"col_heading level0 col3\" >rojstvo</th>        <th class=\"col_heading level0 col4\" >država</th>        <th class=\"col_heading level0 col5\" >ekipa</th>        <th class=\"col_heading level0 col6\" >pozicija</th>        <th class=\"col_heading level0 col7\" >GP</th>        <th class=\"col_heading level0 col8\" >MP_game</th>        <th class=\"col_heading level0 col9\" >Tri_game</th>        <th class=\"col_heading level0 col10\" >Tri_pct</th>        <th class=\"col_heading level0 col11\" >PPG</th>    </tr></thead><tbody>\n",
       "                <tr>\n",
       "                                <td id=\"T_96be1e8a_e7b7_11ea_bbae_9a1fe59a7677row0_col0\" class=\"data row0 col0\" >Russell Westbrook</td>\n",
       "                        <td id=\"T_96be1e8a_e7b7_11ea_bbae_9a1fe59a7677row0_col1\" class=\"data row0 col1\" >190</td>\n",
       "                        <td id=\"T_96be1e8a_e7b7_11ea_bbae_9a1fe59a7677row0_col2\" class=\"data row0 col2\" >90</td>\n",
       "                        <td id=\"T_96be1e8a_e7b7_11ea_bbae_9a1fe59a7677row0_col3\" class=\"data row0 col3\" >1988</td>\n",
       "                        <td id=\"T_96be1e8a_e7b7_11ea_bbae_9a1fe59a7677row0_col4\" class=\"data row0 col4\" >California</td>\n",
       "                        <td id=\"T_96be1e8a_e7b7_11ea_bbae_9a1fe59a7677row0_col5\" class=\"data row0 col5\" >OKC</td>\n",
       "                        <td id=\"T_96be1e8a_e7b7_11ea_bbae_9a1fe59a7677row0_col6\" class=\"data row0 col6\" >PG</td>\n",
       "                        <td id=\"T_96be1e8a_e7b7_11ea_bbae_9a1fe59a7677row0_col7\" class=\"data row0 col7\" >73</td>\n",
       "                        <td id=\"T_96be1e8a_e7b7_11ea_bbae_9a1fe59a7677row0_col8\" class=\"data row0 col8\" >36</td>\n",
       "                        <td id=\"T_96be1e8a_e7b7_11ea_bbae_9a1fe59a7677row0_col9\" class=\"data row0 col9\" >1.6</td>\n",
       "                        <td id=\"T_96be1e8a_e7b7_11ea_bbae_9a1fe59a7677row0_col10\" class=\"data row0 col10\" >0.29</td>\n",
       "                        <td id=\"T_96be1e8a_e7b7_11ea_bbae_9a1fe59a7677row0_col11\" class=\"data row0 col11\" >22.9</td>\n",
       "            </tr>\n",
       "            <tr>\n",
       "                                <td id=\"T_96be1e8a_e7b7_11ea_bbae_9a1fe59a7677row1_col0\" class=\"data row1 col0\" >Kyle Kuzma</td>\n",
       "                        <td id=\"T_96be1e8a_e7b7_11ea_bbae_9a1fe59a7677row1_col1\" class=\"data row1 col1\" >203</td>\n",
       "                        <td id=\"T_96be1e8a_e7b7_11ea_bbae_9a1fe59a7677row1_col2\" class=\"data row1 col2\" >99</td>\n",
       "                        <td id=\"T_96be1e8a_e7b7_11ea_bbae_9a1fe59a7677row1_col3\" class=\"data row1 col3\" >1995</td>\n",
       "                        <td id=\"T_96be1e8a_e7b7_11ea_bbae_9a1fe59a7677row1_col4\" class=\"data row1 col4\" >Michigan</td>\n",
       "                        <td id=\"T_96be1e8a_e7b7_11ea_bbae_9a1fe59a7677row1_col5\" class=\"data row1 col5\" >LAL</td>\n",
       "                        <td id=\"T_96be1e8a_e7b7_11ea_bbae_9a1fe59a7677row1_col6\" class=\"data row1 col6\" >PF</td>\n",
       "                        <td id=\"T_96be1e8a_e7b7_11ea_bbae_9a1fe59a7677row1_col7\" class=\"data row1 col7\" >70</td>\n",
       "                        <td id=\"T_96be1e8a_e7b7_11ea_bbae_9a1fe59a7677row1_col8\" class=\"data row1 col8\" >33.1</td>\n",
       "                        <td id=\"T_96be1e8a_e7b7_11ea_bbae_9a1fe59a7677row1_col9\" class=\"data row1 col9\" >1.8</td>\n",
       "                        <td id=\"T_96be1e8a_e7b7_11ea_bbae_9a1fe59a7677row1_col10\" class=\"data row1 col10\" >0.303</td>\n",
       "                        <td id=\"T_96be1e8a_e7b7_11ea_bbae_9a1fe59a7677row1_col11\" class=\"data row1 col11\" >18.7</td>\n",
       "            </tr>\n",
       "            <tr>\n",
       "                                <td id=\"T_96be1e8a_e7b7_11ea_bbae_9a1fe59a7677row2_col0\" class=\"data row2 col0\" >Kelly Oubre Jr.</td>\n",
       "                        <td id=\"T_96be1e8a_e7b7_11ea_bbae_9a1fe59a7677row2_col1\" class=\"data row2 col1\" >201</td>\n",
       "                        <td id=\"T_96be1e8a_e7b7_11ea_bbae_9a1fe59a7677row2_col2\" class=\"data row2 col2\" >92</td>\n",
       "                        <td id=\"T_96be1e8a_e7b7_11ea_bbae_9a1fe59a7677row2_col3\" class=\"data row2 col3\" >1995</td>\n",
       "                        <td id=\"T_96be1e8a_e7b7_11ea_bbae_9a1fe59a7677row2_col4\" class=\"data row2 col4\" >Louisiana</td>\n",
       "                        <td id=\"T_96be1e8a_e7b7_11ea_bbae_9a1fe59a7677row2_col5\" class=\"data row2 col5\" >TOT</td>\n",
       "                        <td id=\"T_96be1e8a_e7b7_11ea_bbae_9a1fe59a7677row2_col6\" class=\"data row2 col6\" >SF</td>\n",
       "                        <td id=\"T_96be1e8a_e7b7_11ea_bbae_9a1fe59a7677row2_col7\" class=\"data row2 col7\" >69</td>\n",
       "                        <td id=\"T_96be1e8a_e7b7_11ea_bbae_9a1fe59a7677row2_col8\" class=\"data row2 col8\" >28</td>\n",
       "                        <td id=\"T_96be1e8a_e7b7_11ea_bbae_9a1fe59a7677row2_col9\" class=\"data row2 col9\" >1.6</td>\n",
       "                        <td id=\"T_96be1e8a_e7b7_11ea_bbae_9a1fe59a7677row2_col10\" class=\"data row2 col10\" >0.32</td>\n",
       "                        <td id=\"T_96be1e8a_e7b7_11ea_bbae_9a1fe59a7677row2_col11\" class=\"data row2 col11\" >15.2</td>\n",
       "            </tr>\n",
       "            <tr>\n",
       "                                <td id=\"T_96be1e8a_e7b7_11ea_bbae_9a1fe59a7677row3_col0\" class=\"data row3 col0\" >Trae Young</td>\n",
       "                        <td id=\"T_96be1e8a_e7b7_11ea_bbae_9a1fe59a7677row3_col1\" class=\"data row3 col1\" >185</td>\n",
       "                        <td id=\"T_96be1e8a_e7b7_11ea_bbae_9a1fe59a7677row3_col2\" class=\"data row3 col2\" >81</td>\n",
       "                        <td id=\"T_96be1e8a_e7b7_11ea_bbae_9a1fe59a7677row3_col3\" class=\"data row3 col3\" >1998</td>\n",
       "                        <td id=\"T_96be1e8a_e7b7_11ea_bbae_9a1fe59a7677row3_col4\" class=\"data row3 col4\" >Texas</td>\n",
       "                        <td id=\"T_96be1e8a_e7b7_11ea_bbae_9a1fe59a7677row3_col5\" class=\"data row3 col5\" >ATL</td>\n",
       "                        <td id=\"T_96be1e8a_e7b7_11ea_bbae_9a1fe59a7677row3_col6\" class=\"data row3 col6\" >PG</td>\n",
       "                        <td id=\"T_96be1e8a_e7b7_11ea_bbae_9a1fe59a7677row3_col7\" class=\"data row3 col7\" >81</td>\n",
       "                        <td id=\"T_96be1e8a_e7b7_11ea_bbae_9a1fe59a7677row3_col8\" class=\"data row3 col8\" >30.9</td>\n",
       "                        <td id=\"T_96be1e8a_e7b7_11ea_bbae_9a1fe59a7677row3_col9\" class=\"data row3 col9\" >1.9</td>\n",
       "                        <td id=\"T_96be1e8a_e7b7_11ea_bbae_9a1fe59a7677row3_col10\" class=\"data row3 col10\" >0.324</td>\n",
       "                        <td id=\"T_96be1e8a_e7b7_11ea_bbae_9a1fe59a7677row3_col11\" class=\"data row3 col11\" >19.1</td>\n",
       "            </tr>\n",
       "            <tr>\n",
       "                                <td id=\"T_96be1e8a_e7b7_11ea_bbae_9a1fe59a7677row4_col0\" class=\"data row4 col0\" >Jordan Clarkson</td>\n",
       "                        <td id=\"T_96be1e8a_e7b7_11ea_bbae_9a1fe59a7677row4_col1\" class=\"data row4 col1\" >193</td>\n",
       "                        <td id=\"T_96be1e8a_e7b7_11ea_bbae_9a1fe59a7677row4_col2\" class=\"data row4 col2\" >87</td>\n",
       "                        <td id=\"T_96be1e8a_e7b7_11ea_bbae_9a1fe59a7677row4_col3\" class=\"data row4 col3\" >1992</td>\n",
       "                        <td id=\"T_96be1e8a_e7b7_11ea_bbae_9a1fe59a7677row4_col4\" class=\"data row4 col4\" >Florida</td>\n",
       "                        <td id=\"T_96be1e8a_e7b7_11ea_bbae_9a1fe59a7677row4_col5\" class=\"data row4 col5\" >CLE</td>\n",
       "                        <td id=\"T_96be1e8a_e7b7_11ea_bbae_9a1fe59a7677row4_col6\" class=\"data row4 col6\" >SG</td>\n",
       "                        <td id=\"T_96be1e8a_e7b7_11ea_bbae_9a1fe59a7677row4_col7\" class=\"data row4 col7\" >81</td>\n",
       "                        <td id=\"T_96be1e8a_e7b7_11ea_bbae_9a1fe59a7677row4_col8\" class=\"data row4 col8\" >27.3</td>\n",
       "                        <td id=\"T_96be1e8a_e7b7_11ea_bbae_9a1fe59a7677row4_col9\" class=\"data row4 col9\" >1.8</td>\n",
       "                        <td id=\"T_96be1e8a_e7b7_11ea_bbae_9a1fe59a7677row4_col10\" class=\"data row4 col10\" >0.324</td>\n",
       "                        <td id=\"T_96be1e8a_e7b7_11ea_bbae_9a1fe59a7677row4_col11\" class=\"data row4 col11\" >16.8</td>\n",
       "            </tr>\n",
       "            <tr>\n",
       "                                <td id=\"T_96be1e8a_e7b7_11ea_bbae_9a1fe59a7677row5_col0\" class=\"data row5 col0\" >Jrue Holiday</td>\n",
       "                        <td id=\"T_96be1e8a_e7b7_11ea_bbae_9a1fe59a7677row5_col1\" class=\"data row5 col1\" >190</td>\n",
       "                        <td id=\"T_96be1e8a_e7b7_11ea_bbae_9a1fe59a7677row5_col2\" class=\"data row5 col2\" >92</td>\n",
       "                        <td id=\"T_96be1e8a_e7b7_11ea_bbae_9a1fe59a7677row5_col3\" class=\"data row5 col3\" >1990</td>\n",
       "                        <td id=\"T_96be1e8a_e7b7_11ea_bbae_9a1fe59a7677row5_col4\" class=\"data row5 col4\" >California</td>\n",
       "                        <td id=\"T_96be1e8a_e7b7_11ea_bbae_9a1fe59a7677row5_col5\" class=\"data row5 col5\" >NOP</td>\n",
       "                        <td id=\"T_96be1e8a_e7b7_11ea_bbae_9a1fe59a7677row5_col6\" class=\"data row5 col6\" >SG</td>\n",
       "                        <td id=\"T_96be1e8a_e7b7_11ea_bbae_9a1fe59a7677row5_col7\" class=\"data row5 col7\" >67</td>\n",
       "                        <td id=\"T_96be1e8a_e7b7_11ea_bbae_9a1fe59a7677row5_col8\" class=\"data row5 col8\" >35.9</td>\n",
       "                        <td id=\"T_96be1e8a_e7b7_11ea_bbae_9a1fe59a7677row5_col9\" class=\"data row5 col9\" >1.8</td>\n",
       "                        <td id=\"T_96be1e8a_e7b7_11ea_bbae_9a1fe59a7677row5_col10\" class=\"data row5 col10\" >0.325</td>\n",
       "                        <td id=\"T_96be1e8a_e7b7_11ea_bbae_9a1fe59a7677row5_col11\" class=\"data row5 col11\" >21.2</td>\n",
       "            </tr>\n",
       "            <tr>\n",
       "                                <td id=\"T_96be1e8a_e7b7_11ea_bbae_9a1fe59a7677row6_col0\" class=\"data row6 col0\" >Devin Booker</td>\n",
       "                        <td id=\"T_96be1e8a_e7b7_11ea_bbae_9a1fe59a7677row6_col1\" class=\"data row6 col1\" >196</td>\n",
       "                        <td id=\"T_96be1e8a_e7b7_11ea_bbae_9a1fe59a7677row6_col2\" class=\"data row6 col2\" >95</td>\n",
       "                        <td id=\"T_96be1e8a_e7b7_11ea_bbae_9a1fe59a7677row6_col3\" class=\"data row6 col3\" >1996</td>\n",
       "                        <td id=\"T_96be1e8a_e7b7_11ea_bbae_9a1fe59a7677row6_col4\" class=\"data row6 col4\" >Michigan</td>\n",
       "                        <td id=\"T_96be1e8a_e7b7_11ea_bbae_9a1fe59a7677row6_col5\" class=\"data row6 col5\" >PHO</td>\n",
       "                        <td id=\"T_96be1e8a_e7b7_11ea_bbae_9a1fe59a7677row6_col6\" class=\"data row6 col6\" >SG</td>\n",
       "                        <td id=\"T_96be1e8a_e7b7_11ea_bbae_9a1fe59a7677row6_col7\" class=\"data row6 col7\" >64</td>\n",
       "                        <td id=\"T_96be1e8a_e7b7_11ea_bbae_9a1fe59a7677row6_col8\" class=\"data row6 col8\" >35</td>\n",
       "                        <td id=\"T_96be1e8a_e7b7_11ea_bbae_9a1fe59a7677row6_col9\" class=\"data row6 col9\" >2.1</td>\n",
       "                        <td id=\"T_96be1e8a_e7b7_11ea_bbae_9a1fe59a7677row6_col10\" class=\"data row6 col10\" >0.326</td>\n",
       "                        <td id=\"T_96be1e8a_e7b7_11ea_bbae_9a1fe59a7677row6_col11\" class=\"data row6 col11\" >26.6</td>\n",
       "            </tr>\n",
       "            <tr>\n",
       "                                <td id=\"T_96be1e8a_e7b7_11ea_bbae_9a1fe59a7677row7_col0\" class=\"data row7 col0\" >Luka Dončić</td>\n",
       "                        <td id=\"T_96be1e8a_e7b7_11ea_bbae_9a1fe59a7677row7_col1\" class=\"data row7 col1\" >201</td>\n",
       "                        <td id=\"T_96be1e8a_e7b7_11ea_bbae_9a1fe59a7677row7_col2\" class=\"data row7 col2\" >98</td>\n",
       "                        <td id=\"T_96be1e8a_e7b7_11ea_bbae_9a1fe59a7677row7_col3\" class=\"data row7 col3\" >1999</td>\n",
       "                        <td id=\"T_96be1e8a_e7b7_11ea_bbae_9a1fe59a7677row7_col4\" class=\"data row7 col4\" >Slovenia</td>\n",
       "                        <td id=\"T_96be1e8a_e7b7_11ea_bbae_9a1fe59a7677row7_col5\" class=\"data row7 col5\" >DAL</td>\n",
       "                        <td id=\"T_96be1e8a_e7b7_11ea_bbae_9a1fe59a7677row7_col6\" class=\"data row7 col6\" >SG</td>\n",
       "                        <td id=\"T_96be1e8a_e7b7_11ea_bbae_9a1fe59a7677row7_col7\" class=\"data row7 col7\" >72</td>\n",
       "                        <td id=\"T_96be1e8a_e7b7_11ea_bbae_9a1fe59a7677row7_col8\" class=\"data row7 col8\" >32.2</td>\n",
       "                        <td id=\"T_96be1e8a_e7b7_11ea_bbae_9a1fe59a7677row7_col9\" class=\"data row7 col9\" >2.3</td>\n",
       "                        <td id=\"T_96be1e8a_e7b7_11ea_bbae_9a1fe59a7677row7_col10\" class=\"data row7 col10\" >0.327</td>\n",
       "                        <td id=\"T_96be1e8a_e7b7_11ea_bbae_9a1fe59a7677row7_col11\" class=\"data row7 col11\" >21.2</td>\n",
       "            </tr>\n",
       "            <tr>\n",
       "                                <td id=\"T_96be1e8a_e7b7_11ea_bbae_9a1fe59a7677row8_col0\" class=\"data row8 col0\" >Lonzo Ball</td>\n",
       "                        <td id=\"T_96be1e8a_e7b7_11ea_bbae_9a1fe59a7677row8_col1\" class=\"data row8 col1\" >198</td>\n",
       "                        <td id=\"T_96be1e8a_e7b7_11ea_bbae_9a1fe59a7677row8_col2\" class=\"data row8 col2\" >86</td>\n",
       "                        <td id=\"T_96be1e8a_e7b7_11ea_bbae_9a1fe59a7677row8_col3\" class=\"data row8 col3\" >1997</td>\n",
       "                        <td id=\"T_96be1e8a_e7b7_11ea_bbae_9a1fe59a7677row8_col4\" class=\"data row8 col4\" >California</td>\n",
       "                        <td id=\"T_96be1e8a_e7b7_11ea_bbae_9a1fe59a7677row8_col5\" class=\"data row8 col5\" >LAL</td>\n",
       "                        <td id=\"T_96be1e8a_e7b7_11ea_bbae_9a1fe59a7677row8_col6\" class=\"data row8 col6\" >PG</td>\n",
       "                        <td id=\"T_96be1e8a_e7b7_11ea_bbae_9a1fe59a7677row8_col7\" class=\"data row8 col7\" >47</td>\n",
       "                        <td id=\"T_96be1e8a_e7b7_11ea_bbae_9a1fe59a7677row8_col8\" class=\"data row8 col8\" >30.3</td>\n",
       "                        <td id=\"T_96be1e8a_e7b7_11ea_bbae_9a1fe59a7677row8_col9\" class=\"data row8 col9\" >1.6</td>\n",
       "                        <td id=\"T_96be1e8a_e7b7_11ea_bbae_9a1fe59a7677row8_col10\" class=\"data row8 col10\" >0.329</td>\n",
       "                        <td id=\"T_96be1e8a_e7b7_11ea_bbae_9a1fe59a7677row8_col11\" class=\"data row8 col11\" >9.9</td>\n",
       "            </tr>\n",
       "            <tr>\n",
       "                                <td id=\"T_96be1e8a_e7b7_11ea_bbae_9a1fe59a7677row9_col0\" class=\"data row9 col0\" >Eric Bledsoe</td>\n",
       "                        <td id=\"T_96be1e8a_e7b7_11ea_bbae_9a1fe59a7677row9_col1\" class=\"data row9 col1\" >185</td>\n",
       "                        <td id=\"T_96be1e8a_e7b7_11ea_bbae_9a1fe59a7677row9_col2\" class=\"data row9 col2\" >92</td>\n",
       "                        <td id=\"T_96be1e8a_e7b7_11ea_bbae_9a1fe59a7677row9_col3\" class=\"data row9 col3\" >1989</td>\n",
       "                        <td id=\"T_96be1e8a_e7b7_11ea_bbae_9a1fe59a7677row9_col4\" class=\"data row9 col4\" >Alabama</td>\n",
       "                        <td id=\"T_96be1e8a_e7b7_11ea_bbae_9a1fe59a7677row9_col5\" class=\"data row9 col5\" >MIL</td>\n",
       "                        <td id=\"T_96be1e8a_e7b7_11ea_bbae_9a1fe59a7677row9_col6\" class=\"data row9 col6\" >PG</td>\n",
       "                        <td id=\"T_96be1e8a_e7b7_11ea_bbae_9a1fe59a7677row9_col7\" class=\"data row9 col7\" >78</td>\n",
       "                        <td id=\"T_96be1e8a_e7b7_11ea_bbae_9a1fe59a7677row9_col8\" class=\"data row9 col8\" >29.1</td>\n",
       "                        <td id=\"T_96be1e8a_e7b7_11ea_bbae_9a1fe59a7677row9_col9\" class=\"data row9 col9\" >1.6</td>\n",
       "                        <td id=\"T_96be1e8a_e7b7_11ea_bbae_9a1fe59a7677row9_col10\" class=\"data row9 col10\" >0.329</td>\n",
       "                        <td id=\"T_96be1e8a_e7b7_11ea_bbae_9a1fe59a7677row9_col11\" class=\"data row9 col11\" >15.9</td>\n",
       "            </tr>\n",
       "    </tbody></table>"
      ],
      "text/plain": [
       "<pandas.io.formats.style.Styler at 0x14a52ba8>"
      ]
     },
     "execution_count": 64,
     "metadata": {},
     "output_type": "execute_result"
    }
   ],
   "source": [
    "stolpci = ['ime_priimek', 'višina', 'teža', 'rojstvo', 'država', 'ekipa', 'pozicija', \n",
    "                                  'GP', 'MP_game', 'Tri_game', 'Tri_pct', 'PPG']\n",
    "naredi_tabelo(podatki_surovo.GP, 40, podatki_surovo.Tri_game, 1.5, stolpci, 'Tri_pct', True)"
   ]
  },
  {
   "cell_type": "markdown",
   "metadata": {},
   "source": [
    "#### Kdo ima najboljši in najslabši procent zadetih prostih metov"
   ]
  },
  {
   "cell_type": "markdown",
   "metadata": {},
   "source": [
    "Poiščimo igralce z najboljšim procentom zadetih prostih metov, pod pogojem da je igral vsaj 25 tekem in metal vsaj 0.5 prostih metov na tekmo."
   ]
  },
  {
   "cell_type": "code",
   "execution_count": 66,
   "metadata": {},
   "outputs": [
    {
     "data": {
      "text/html": [
       "<style  type=\"text/css\" >\n",
       "</style><table id=\"T_bbde86e4_e7b7_11ea_b1d4_9a1fe59a7677\" ><thead>    <tr>        <th class=\"col_heading level0 col0\" >ime_priimek</th>        <th class=\"col_heading level0 col1\" >višina</th>        <th class=\"col_heading level0 col2\" >teža</th>        <th class=\"col_heading level0 col3\" >rojstvo</th>        <th class=\"col_heading level0 col4\" >država</th>        <th class=\"col_heading level0 col5\" >ekipa</th>        <th class=\"col_heading level0 col6\" >pozicija</th>        <th class=\"col_heading level0 col7\" >GP</th>        <th class=\"col_heading level0 col8\" >MP_game</th>        <th class=\"col_heading level0 col9\" >FT_game</th>        <th class=\"col_heading level0 col10\" >FT_pct</th>        <th class=\"col_heading level0 col11\" >PPG</th>    </tr></thead><tbody>\n",
       "                <tr>\n",
       "                                <td id=\"T_bbde86e4_e7b7_11ea_b1d4_9a1fe59a7677row0_col0\" class=\"data row0 col0\" >Malcolm Brogdon</td>\n",
       "                        <td id=\"T_bbde86e4_e7b7_11ea_b1d4_9a1fe59a7677row0_col1\" class=\"data row0 col1\" >196</td>\n",
       "                        <td id=\"T_bbde86e4_e7b7_11ea_b1d4_9a1fe59a7677row0_col2\" class=\"data row0 col2\" >103</td>\n",
       "                        <td id=\"T_bbde86e4_e7b7_11ea_b1d4_9a1fe59a7677row0_col3\" class=\"data row0 col3\" >1992</td>\n",
       "                        <td id=\"T_bbde86e4_e7b7_11ea_b1d4_9a1fe59a7677row0_col4\" class=\"data row0 col4\" >Georgia</td>\n",
       "                        <td id=\"T_bbde86e4_e7b7_11ea_b1d4_9a1fe59a7677row0_col5\" class=\"data row0 col5\" >MIL</td>\n",
       "                        <td id=\"T_bbde86e4_e7b7_11ea_b1d4_9a1fe59a7677row0_col6\" class=\"data row0 col6\" >SG</td>\n",
       "                        <td id=\"T_bbde86e4_e7b7_11ea_b1d4_9a1fe59a7677row0_col7\" class=\"data row0 col7\" >64</td>\n",
       "                        <td id=\"T_bbde86e4_e7b7_11ea_b1d4_9a1fe59a7677row0_col8\" class=\"data row0 col8\" >28.6</td>\n",
       "                        <td id=\"T_bbde86e4_e7b7_11ea_b1d4_9a1fe59a7677row0_col9\" class=\"data row0 col9\" >2.2</td>\n",
       "                        <td id=\"T_bbde86e4_e7b7_11ea_b1d4_9a1fe59a7677row0_col10\" class=\"data row0 col10\" >0.928</td>\n",
       "                        <td id=\"T_bbde86e4_e7b7_11ea_b1d4_9a1fe59a7677row0_col11\" class=\"data row0 col11\" >15.6</td>\n",
       "            </tr>\n",
       "            <tr>\n",
       "                                <td id=\"T_bbde86e4_e7b7_11ea_b1d4_9a1fe59a7677row1_col0\" class=\"data row1 col0\" >Stephen Curry</td>\n",
       "                        <td id=\"T_bbde86e4_e7b7_11ea_b1d4_9a1fe59a7677row1_col1\" class=\"data row1 col1\" >190</td>\n",
       "                        <td id=\"T_bbde86e4_e7b7_11ea_b1d4_9a1fe59a7677row1_col2\" class=\"data row1 col2\" >86</td>\n",
       "                        <td id=\"T_bbde86e4_e7b7_11ea_b1d4_9a1fe59a7677row1_col3\" class=\"data row1 col3\" >1988</td>\n",
       "                        <td id=\"T_bbde86e4_e7b7_11ea_b1d4_9a1fe59a7677row1_col4\" class=\"data row1 col4\" >Ohio</td>\n",
       "                        <td id=\"T_bbde86e4_e7b7_11ea_b1d4_9a1fe59a7677row1_col5\" class=\"data row1 col5\" >GSW</td>\n",
       "                        <td id=\"T_bbde86e4_e7b7_11ea_b1d4_9a1fe59a7677row1_col6\" class=\"data row1 col6\" >PG</td>\n",
       "                        <td id=\"T_bbde86e4_e7b7_11ea_b1d4_9a1fe59a7677row1_col7\" class=\"data row1 col7\" >69</td>\n",
       "                        <td id=\"T_bbde86e4_e7b7_11ea_b1d4_9a1fe59a7677row1_col8\" class=\"data row1 col8\" >33.8</td>\n",
       "                        <td id=\"T_bbde86e4_e7b7_11ea_b1d4_9a1fe59a7677row1_col9\" class=\"data row1 col9\" >3.8</td>\n",
       "                        <td id=\"T_bbde86e4_e7b7_11ea_b1d4_9a1fe59a7677row1_col10\" class=\"data row1 col10\" >0.916</td>\n",
       "                        <td id=\"T_bbde86e4_e7b7_11ea_b1d4_9a1fe59a7677row1_col11\" class=\"data row1 col11\" >27.3</td>\n",
       "            </tr>\n",
       "            <tr>\n",
       "                                <td id=\"T_bbde86e4_e7b7_11ea_b1d4_9a1fe59a7677row2_col0\" class=\"data row2 col0\" >Damian Lillard</td>\n",
       "                        <td id=\"T_bbde86e4_e7b7_11ea_b1d4_9a1fe59a7677row2_col1\" class=\"data row2 col1\" >188</td>\n",
       "                        <td id=\"T_bbde86e4_e7b7_11ea_b1d4_9a1fe59a7677row2_col2\" class=\"data row2 col2\" >88</td>\n",
       "                        <td id=\"T_bbde86e4_e7b7_11ea_b1d4_9a1fe59a7677row2_col3\" class=\"data row2 col3\" >1990</td>\n",
       "                        <td id=\"T_bbde86e4_e7b7_11ea_b1d4_9a1fe59a7677row2_col4\" class=\"data row2 col4\" >California</td>\n",
       "                        <td id=\"T_bbde86e4_e7b7_11ea_b1d4_9a1fe59a7677row2_col5\" class=\"data row2 col5\" >POR</td>\n",
       "                        <td id=\"T_bbde86e4_e7b7_11ea_b1d4_9a1fe59a7677row2_col6\" class=\"data row2 col6\" >PG</td>\n",
       "                        <td id=\"T_bbde86e4_e7b7_11ea_b1d4_9a1fe59a7677row2_col7\" class=\"data row2 col7\" >80</td>\n",
       "                        <td id=\"T_bbde86e4_e7b7_11ea_b1d4_9a1fe59a7677row2_col8\" class=\"data row2 col8\" >35.5</td>\n",
       "                        <td id=\"T_bbde86e4_e7b7_11ea_b1d4_9a1fe59a7677row2_col9\" class=\"data row2 col9\" >5.9</td>\n",
       "                        <td id=\"T_bbde86e4_e7b7_11ea_b1d4_9a1fe59a7677row2_col10\" class=\"data row2 col10\" >0.912</td>\n",
       "                        <td id=\"T_bbde86e4_e7b7_11ea_b1d4_9a1fe59a7677row2_col11\" class=\"data row2 col11\" >25.8</td>\n",
       "            </tr>\n",
       "            <tr>\n",
       "                                <td id=\"T_bbde86e4_e7b7_11ea_b1d4_9a1fe59a7677row3_col0\" class=\"data row3 col0\" >Danilo Gallinari</td>\n",
       "                        <td id=\"T_bbde86e4_e7b7_11ea_b1d4_9a1fe59a7677row3_col1\" class=\"data row3 col1\" >208</td>\n",
       "                        <td id=\"T_bbde86e4_e7b7_11ea_b1d4_9a1fe59a7677row3_col2\" class=\"data row3 col2\" >105</td>\n",
       "                        <td id=\"T_bbde86e4_e7b7_11ea_b1d4_9a1fe59a7677row3_col3\" class=\"data row3 col3\" >1988</td>\n",
       "                        <td id=\"T_bbde86e4_e7b7_11ea_b1d4_9a1fe59a7677row3_col4\" class=\"data row3 col4\" >Italy</td>\n",
       "                        <td id=\"T_bbde86e4_e7b7_11ea_b1d4_9a1fe59a7677row3_col5\" class=\"data row3 col5\" >LAC</td>\n",
       "                        <td id=\"T_bbde86e4_e7b7_11ea_b1d4_9a1fe59a7677row3_col6\" class=\"data row3 col6\" >SF</td>\n",
       "                        <td id=\"T_bbde86e4_e7b7_11ea_b1d4_9a1fe59a7677row3_col7\" class=\"data row3 col7\" >68</td>\n",
       "                        <td id=\"T_bbde86e4_e7b7_11ea_b1d4_9a1fe59a7677row3_col8\" class=\"data row3 col8\" >30.3</td>\n",
       "                        <td id=\"T_bbde86e4_e7b7_11ea_b1d4_9a1fe59a7677row3_col9\" class=\"data row3 col9\" >5.4</td>\n",
       "                        <td id=\"T_bbde86e4_e7b7_11ea_b1d4_9a1fe59a7677row3_col10\" class=\"data row3 col10\" >0.904</td>\n",
       "                        <td id=\"T_bbde86e4_e7b7_11ea_b1d4_9a1fe59a7677row3_col11\" class=\"data row3 col11\" >19.8</td>\n",
       "            </tr>\n",
       "            <tr>\n",
       "                                <td id=\"T_bbde86e4_e7b7_11ea_b1d4_9a1fe59a7677row4_col0\" class=\"data row4 col0\" >Marco Belinelli</td>\n",
       "                        <td id=\"T_bbde86e4_e7b7_11ea_b1d4_9a1fe59a7677row4_col1\" class=\"data row4 col1\" >196</td>\n",
       "                        <td id=\"T_bbde86e4_e7b7_11ea_b1d4_9a1fe59a7677row4_col2\" class=\"data row4 col2\" >95</td>\n",
       "                        <td id=\"T_bbde86e4_e7b7_11ea_b1d4_9a1fe59a7677row4_col3\" class=\"data row4 col3\" >1986</td>\n",
       "                        <td id=\"T_bbde86e4_e7b7_11ea_b1d4_9a1fe59a7677row4_col4\" class=\"data row4 col4\" >Italy</td>\n",
       "                        <td id=\"T_bbde86e4_e7b7_11ea_b1d4_9a1fe59a7677row4_col5\" class=\"data row4 col5\" >SAS</td>\n",
       "                        <td id=\"T_bbde86e4_e7b7_11ea_b1d4_9a1fe59a7677row4_col6\" class=\"data row4 col6\" >SG</td>\n",
       "                        <td id=\"T_bbde86e4_e7b7_11ea_b1d4_9a1fe59a7677row4_col7\" class=\"data row4 col7\" >79</td>\n",
       "                        <td id=\"T_bbde86e4_e7b7_11ea_b1d4_9a1fe59a7677row4_col8\" class=\"data row4 col8\" >23</td>\n",
       "                        <td id=\"T_bbde86e4_e7b7_11ea_b1d4_9a1fe59a7677row4_col9\" class=\"data row4 col9\" >1.4</td>\n",
       "                        <td id=\"T_bbde86e4_e7b7_11ea_b1d4_9a1fe59a7677row4_col10\" class=\"data row4 col10\" >0.903</td>\n",
       "                        <td id=\"T_bbde86e4_e7b7_11ea_b1d4_9a1fe59a7677row4_col11\" class=\"data row4 col11\" >10.5</td>\n",
       "            </tr>\n",
       "            <tr>\n",
       "                                <td id=\"T_bbde86e4_e7b7_11ea_b1d4_9a1fe59a7677row5_col0\" class=\"data row5 col0\" >Justin Holiday</td>\n",
       "                        <td id=\"T_bbde86e4_e7b7_11ea_b1d4_9a1fe59a7677row5_col1\" class=\"data row5 col1\" >198</td>\n",
       "                        <td id=\"T_bbde86e4_e7b7_11ea_b1d4_9a1fe59a7677row5_col2\" class=\"data row5 col2\" >82</td>\n",
       "                        <td id=\"T_bbde86e4_e7b7_11ea_b1d4_9a1fe59a7677row5_col3\" class=\"data row5 col3\" >1989</td>\n",
       "                        <td id=\"T_bbde86e4_e7b7_11ea_b1d4_9a1fe59a7677row5_col4\" class=\"data row5 col4\" >California</td>\n",
       "                        <td id=\"T_bbde86e4_e7b7_11ea_b1d4_9a1fe59a7677row5_col5\" class=\"data row5 col5\" >TOT</td>\n",
       "                        <td id=\"T_bbde86e4_e7b7_11ea_b1d4_9a1fe59a7677row5_col6\" class=\"data row5 col6\" >SG</td>\n",
       "                        <td id=\"T_bbde86e4_e7b7_11ea_b1d4_9a1fe59a7677row5_col7\" class=\"data row5 col7\" >82</td>\n",
       "                        <td id=\"T_bbde86e4_e7b7_11ea_b1d4_9a1fe59a7677row5_col8\" class=\"data row5 col8\" >31.8</td>\n",
       "                        <td id=\"T_bbde86e4_e7b7_11ea_b1d4_9a1fe59a7677row5_col9\" class=\"data row5 col9\" >1.2</td>\n",
       "                        <td id=\"T_bbde86e4_e7b7_11ea_b1d4_9a1fe59a7677row5_col10\" class=\"data row5 col10\" >0.896</td>\n",
       "                        <td id=\"T_bbde86e4_e7b7_11ea_b1d4_9a1fe59a7677row5_col11\" class=\"data row5 col11\" >10.5</td>\n",
       "            </tr>\n",
       "            <tr>\n",
       "                                <td id=\"T_bbde86e4_e7b7_11ea_b1d4_9a1fe59a7677row6_col0\" class=\"data row6 col0\" >Yogi Ferrell</td>\n",
       "                        <td id=\"T_bbde86e4_e7b7_11ea_b1d4_9a1fe59a7677row6_col1\" class=\"data row6 col1\" >183</td>\n",
       "                        <td id=\"T_bbde86e4_e7b7_11ea_b1d4_9a1fe59a7677row6_col2\" class=\"data row6 col2\" >81</td>\n",
       "                        <td id=\"T_bbde86e4_e7b7_11ea_b1d4_9a1fe59a7677row6_col3\" class=\"data row6 col3\" >1993</td>\n",
       "                        <td id=\"T_bbde86e4_e7b7_11ea_b1d4_9a1fe59a7677row6_col4\" class=\"data row6 col4\" >Indiana</td>\n",
       "                        <td id=\"T_bbde86e4_e7b7_11ea_b1d4_9a1fe59a7677row6_col5\" class=\"data row6 col5\" >SAC</td>\n",
       "                        <td id=\"T_bbde86e4_e7b7_11ea_b1d4_9a1fe59a7677row6_col6\" class=\"data row6 col6\" >PG</td>\n",
       "                        <td id=\"T_bbde86e4_e7b7_11ea_b1d4_9a1fe59a7677row6_col7\" class=\"data row6 col7\" >71</td>\n",
       "                        <td id=\"T_bbde86e4_e7b7_11ea_b1d4_9a1fe59a7677row6_col8\" class=\"data row6 col8\" >15</td>\n",
       "                        <td id=\"T_bbde86e4_e7b7_11ea_b1d4_9a1fe59a7677row6_col9\" class=\"data row6 col9\" >0.8</td>\n",
       "                        <td id=\"T_bbde86e4_e7b7_11ea_b1d4_9a1fe59a7677row6_col10\" class=\"data row6 col10\" >0.896</td>\n",
       "                        <td id=\"T_bbde86e4_e7b7_11ea_b1d4_9a1fe59a7677row6_col11\" class=\"data row6 col11\" >5.9</td>\n",
       "            </tr>\n",
       "            <tr>\n",
       "                                <td id=\"T_bbde86e4_e7b7_11ea_b1d4_9a1fe59a7677row7_col0\" class=\"data row7 col0\" >J.J. Redick</td>\n",
       "                        <td id=\"T_bbde86e4_e7b7_11ea_b1d4_9a1fe59a7677row7_col1\" class=\"data row7 col1\" >190</td>\n",
       "                        <td id=\"T_bbde86e4_e7b7_11ea_b1d4_9a1fe59a7677row7_col2\" class=\"data row7 col2\" >90</td>\n",
       "                        <td id=\"T_bbde86e4_e7b7_11ea_b1d4_9a1fe59a7677row7_col3\" class=\"data row7 col3\" >1984</td>\n",
       "                        <td id=\"T_bbde86e4_e7b7_11ea_b1d4_9a1fe59a7677row7_col4\" class=\"data row7 col4\" >Tennessee</td>\n",
       "                        <td id=\"T_bbde86e4_e7b7_11ea_b1d4_9a1fe59a7677row7_col5\" class=\"data row7 col5\" >PHI</td>\n",
       "                        <td id=\"T_bbde86e4_e7b7_11ea_b1d4_9a1fe59a7677row7_col6\" class=\"data row7 col6\" >SG</td>\n",
       "                        <td id=\"T_bbde86e4_e7b7_11ea_b1d4_9a1fe59a7677row7_col7\" class=\"data row7 col7\" >76</td>\n",
       "                        <td id=\"T_bbde86e4_e7b7_11ea_b1d4_9a1fe59a7677row7_col8\" class=\"data row7 col8\" >31.3</td>\n",
       "                        <td id=\"T_bbde86e4_e7b7_11ea_b1d4_9a1fe59a7677row7_col9\" class=\"data row7 col9\" >3</td>\n",
       "                        <td id=\"T_bbde86e4_e7b7_11ea_b1d4_9a1fe59a7677row7_col10\" class=\"data row7 col10\" >0.894</td>\n",
       "                        <td id=\"T_bbde86e4_e7b7_11ea_b1d4_9a1fe59a7677row7_col11\" class=\"data row7 col11\" >18.1</td>\n",
       "            </tr>\n",
       "            <tr>\n",
       "                                <td id=\"T_bbde86e4_e7b7_11ea_b1d4_9a1fe59a7677row8_col0\" class=\"data row8 col0\" >Ian Clark</td>\n",
       "                        <td id=\"T_bbde86e4_e7b7_11ea_b1d4_9a1fe59a7677row8_col1\" class=\"data row8 col1\" >190</td>\n",
       "                        <td id=\"T_bbde86e4_e7b7_11ea_b1d4_9a1fe59a7677row8_col2\" class=\"data row8 col2\" >79</td>\n",
       "                        <td id=\"T_bbde86e4_e7b7_11ea_b1d4_9a1fe59a7677row8_col3\" class=\"data row8 col3\" >1991</td>\n",
       "                        <td id=\"T_bbde86e4_e7b7_11ea_b1d4_9a1fe59a7677row8_col4\" class=\"data row8 col4\" >Tennessee</td>\n",
       "                        <td id=\"T_bbde86e4_e7b7_11ea_b1d4_9a1fe59a7677row8_col5\" class=\"data row8 col5\" >NOP</td>\n",
       "                        <td id=\"T_bbde86e4_e7b7_11ea_b1d4_9a1fe59a7677row8_col6\" class=\"data row8 col6\" >SG</td>\n",
       "                        <td id=\"T_bbde86e4_e7b7_11ea_b1d4_9a1fe59a7677row8_col7\" class=\"data row8 col7\" >60</td>\n",
       "                        <td id=\"T_bbde86e4_e7b7_11ea_b1d4_9a1fe59a7677row8_col8\" class=\"data row8 col8\" >16.2</td>\n",
       "                        <td id=\"T_bbde86e4_e7b7_11ea_b1d4_9a1fe59a7677row8_col9\" class=\"data row8 col9\" >0.6</td>\n",
       "                        <td id=\"T_bbde86e4_e7b7_11ea_b1d4_9a1fe59a7677row8_col10\" class=\"data row8 col10\" >0.892</td>\n",
       "                        <td id=\"T_bbde86e4_e7b7_11ea_b1d4_9a1fe59a7677row8_col11\" class=\"data row8 col11\" >6.7</td>\n",
       "            </tr>\n",
       "            <tr>\n",
       "                                <td id=\"T_bbde86e4_e7b7_11ea_b1d4_9a1fe59a7677row9_col0\" class=\"data row9 col0\" >Nik Stauskas</td>\n",
       "                        <td id=\"T_bbde86e4_e7b7_11ea_b1d4_9a1fe59a7677row9_col1\" class=\"data row9 col1\" >198</td>\n",
       "                        <td id=\"T_bbde86e4_e7b7_11ea_b1d4_9a1fe59a7677row9_col2\" class=\"data row9 col2\" >92</td>\n",
       "                        <td id=\"T_bbde86e4_e7b7_11ea_b1d4_9a1fe59a7677row9_col3\" class=\"data row9 col3\" >1993</td>\n",
       "                        <td id=\"T_bbde86e4_e7b7_11ea_b1d4_9a1fe59a7677row9_col4\" class=\"data row9 col4\" >Canada</td>\n",
       "                        <td id=\"T_bbde86e4_e7b7_11ea_b1d4_9a1fe59a7677row9_col5\" class=\"data row9 col5\" >TOT</td>\n",
       "                        <td id=\"T_bbde86e4_e7b7_11ea_b1d4_9a1fe59a7677row9_col6\" class=\"data row9 col6\" >SG</td>\n",
       "                        <td id=\"T_bbde86e4_e7b7_11ea_b1d4_9a1fe59a7677row9_col7\" class=\"data row9 col7\" >68</td>\n",
       "                        <td id=\"T_bbde86e4_e7b7_11ea_b1d4_9a1fe59a7677row9_col8\" class=\"data row9 col8\" >14.9</td>\n",
       "                        <td id=\"T_bbde86e4_e7b7_11ea_b1d4_9a1fe59a7677row9_col9\" class=\"data row9 col9\" >0.8</td>\n",
       "                        <td id=\"T_bbde86e4_e7b7_11ea_b1d4_9a1fe59a7677row9_col10\" class=\"data row9 col10\" >0.891</td>\n",
       "                        <td id=\"T_bbde86e4_e7b7_11ea_b1d4_9a1fe59a7677row9_col11\" class=\"data row9 col11\" >5.9</td>\n",
       "            </tr>\n",
       "    </tbody></table>"
      ],
      "text/plain": [
       "<pandas.io.formats.style.Styler at 0x14a8d8d0>"
      ]
     },
     "execution_count": 66,
     "metadata": {},
     "output_type": "execute_result"
    }
   ],
   "source": [
    "stolpci = ['ime_priimek', 'višina', 'teža', 'rojstvo', 'država', 'ekipa', 'pozicija', \n",
    "                                  'GP', 'MP_game', 'FT_game', 'FT_pct', 'PPG']\n",
    "naredi_tabelo(podatki_surovo.GP, 25, podatki_surovo.FT_game, 0.5, stolpci, 'FT_pct', False)"
   ]
  },
  {
   "cell_type": "markdown",
   "metadata": {},
   "source": [
    "Kdo so igralci z najslabšim procentom zadetih prostih metov, pod pogojem da je igral vsaj 40 tekem in metal vsaj 1 prosti met na tekmo."
   ]
  },
  {
   "cell_type": "code",
   "execution_count": 67,
   "metadata": {},
   "outputs": [
    {
     "data": {
      "text/html": [
       "<style  type=\"text/css\" >\n",
       "</style><table id=\"T_e10282c8_e7b7_11ea_b986_9a1fe59a7677\" ><thead>    <tr>        <th class=\"col_heading level0 col0\" >ime_priimek</th>        <th class=\"col_heading level0 col1\" >višina</th>        <th class=\"col_heading level0 col2\" >teža</th>        <th class=\"col_heading level0 col3\" >rojstvo</th>        <th class=\"col_heading level0 col4\" >država</th>        <th class=\"col_heading level0 col5\" >ekipa</th>        <th class=\"col_heading level0 col6\" >pozicija</th>        <th class=\"col_heading level0 col7\" >GP</th>        <th class=\"col_heading level0 col8\" >MP_game</th>        <th class=\"col_heading level0 col9\" >FT_game</th>        <th class=\"col_heading level0 col10\" >FT_pct</th>        <th class=\"col_heading level0 col11\" >PPG</th>    </tr></thead><tbody>\n",
       "                <tr>\n",
       "                                <td id=\"T_e10282c8_e7b7_11ea_b986_9a1fe59a7677row0_col0\" class=\"data row0 col0\" >Hassan Whiteside</td>\n",
       "                        <td id=\"T_e10282c8_e7b7_11ea_b986_9a1fe59a7677row0_col1\" class=\"data row0 col1\" >213</td>\n",
       "                        <td id=\"T_e10282c8_e7b7_11ea_b986_9a1fe59a7677row0_col2\" class=\"data row0 col2\" >106</td>\n",
       "                        <td id=\"T_e10282c8_e7b7_11ea_b986_9a1fe59a7677row0_col3\" class=\"data row0 col3\" >1989</td>\n",
       "                        <td id=\"T_e10282c8_e7b7_11ea_b986_9a1fe59a7677row0_col4\" class=\"data row0 col4\" >North Carolina</td>\n",
       "                        <td id=\"T_e10282c8_e7b7_11ea_b986_9a1fe59a7677row0_col5\" class=\"data row0 col5\" >MIA</td>\n",
       "                        <td id=\"T_e10282c8_e7b7_11ea_b986_9a1fe59a7677row0_col6\" class=\"data row0 col6\" >C</td>\n",
       "                        <td id=\"T_e10282c8_e7b7_11ea_b986_9a1fe59a7677row0_col7\" class=\"data row0 col7\" >72</td>\n",
       "                        <td id=\"T_e10282c8_e7b7_11ea_b986_9a1fe59a7677row0_col8\" class=\"data row0 col8\" >23.3</td>\n",
       "                        <td id=\"T_e10282c8_e7b7_11ea_b986_9a1fe59a7677row0_col9\" class=\"data row0 col9\" >1.5</td>\n",
       "                        <td id=\"T_e10282c8_e7b7_11ea_b986_9a1fe59a7677row0_col10\" class=\"data row0 col10\" >0.449</td>\n",
       "                        <td id=\"T_e10282c8_e7b7_11ea_b986_9a1fe59a7677row0_col11\" class=\"data row0 col11\" >12.3</td>\n",
       "            </tr>\n",
       "            <tr>\n",
       "                                <td id=\"T_e10282c8_e7b7_11ea_b986_9a1fe59a7677row1_col0\" class=\"data row1 col0\" >Steven Adams</td>\n",
       "                        <td id=\"T_e10282c8_e7b7_11ea_b986_9a1fe59a7677row1_col1\" class=\"data row1 col1\" >211</td>\n",
       "                        <td id=\"T_e10282c8_e7b7_11ea_b986_9a1fe59a7677row1_col2\" class=\"data row1 col2\" >120</td>\n",
       "                        <td id=\"T_e10282c8_e7b7_11ea_b986_9a1fe59a7677row1_col3\" class=\"data row1 col3\" >1993</td>\n",
       "                        <td id=\"T_e10282c8_e7b7_11ea_b986_9a1fe59a7677row1_col4\" class=\"data row1 col4\" >New Zealand</td>\n",
       "                        <td id=\"T_e10282c8_e7b7_11ea_b986_9a1fe59a7677row1_col5\" class=\"data row1 col5\" >OKC</td>\n",
       "                        <td id=\"T_e10282c8_e7b7_11ea_b986_9a1fe59a7677row1_col6\" class=\"data row1 col6\" >C</td>\n",
       "                        <td id=\"T_e10282c8_e7b7_11ea_b986_9a1fe59a7677row1_col7\" class=\"data row1 col7\" >80</td>\n",
       "                        <td id=\"T_e10282c8_e7b7_11ea_b986_9a1fe59a7677row1_col8\" class=\"data row1 col8\" >33.4</td>\n",
       "                        <td id=\"T_e10282c8_e7b7_11ea_b986_9a1fe59a7677row1_col9\" class=\"data row1 col9\" >1.8</td>\n",
       "                        <td id=\"T_e10282c8_e7b7_11ea_b986_9a1fe59a7677row1_col10\" class=\"data row1 col10\" >0.5</td>\n",
       "                        <td id=\"T_e10282c8_e7b7_11ea_b986_9a1fe59a7677row1_col11\" class=\"data row1 col11\" >13.9</td>\n",
       "            </tr>\n",
       "            <tr>\n",
       "                                <td id=\"T_e10282c8_e7b7_11ea_b986_9a1fe59a7677row2_col0\" class=\"data row2 col0\" >Willie Cauley-Stein</td>\n",
       "                        <td id=\"T_e10282c8_e7b7_11ea_b986_9a1fe59a7677row2_col1\" class=\"data row2 col1\" >213</td>\n",
       "                        <td id=\"T_e10282c8_e7b7_11ea_b986_9a1fe59a7677row2_col2\" class=\"data row2 col2\" >108</td>\n",
       "                        <td id=\"T_e10282c8_e7b7_11ea_b986_9a1fe59a7677row2_col3\" class=\"data row2 col3\" >1993</td>\n",
       "                        <td id=\"T_e10282c8_e7b7_11ea_b986_9a1fe59a7677row2_col4\" class=\"data row2 col4\" >Kansas</td>\n",
       "                        <td id=\"T_e10282c8_e7b7_11ea_b986_9a1fe59a7677row2_col5\" class=\"data row2 col5\" >SAC</td>\n",
       "                        <td id=\"T_e10282c8_e7b7_11ea_b986_9a1fe59a7677row2_col6\" class=\"data row2 col6\" >C</td>\n",
       "                        <td id=\"T_e10282c8_e7b7_11ea_b986_9a1fe59a7677row2_col7\" class=\"data row2 col7\" >81</td>\n",
       "                        <td id=\"T_e10282c8_e7b7_11ea_b986_9a1fe59a7677row2_col8\" class=\"data row2 col8\" >27.3</td>\n",
       "                        <td id=\"T_e10282c8_e7b7_11ea_b986_9a1fe59a7677row2_col9\" class=\"data row2 col9\" >1.7</td>\n",
       "                        <td id=\"T_e10282c8_e7b7_11ea_b986_9a1fe59a7677row2_col10\" class=\"data row2 col10\" >0.551</td>\n",
       "                        <td id=\"T_e10282c8_e7b7_11ea_b986_9a1fe59a7677row2_col11\" class=\"data row2 col11\" >11.9</td>\n",
       "            </tr>\n",
       "            <tr>\n",
       "                                <td id=\"T_e10282c8_e7b7_11ea_b986_9a1fe59a7677row3_col0\" class=\"data row3 col0\" >Mason Plumlee</td>\n",
       "                        <td id=\"T_e10282c8_e7b7_11ea_b986_9a1fe59a7677row3_col1\" class=\"data row3 col1\" >211</td>\n",
       "                        <td id=\"T_e10282c8_e7b7_11ea_b986_9a1fe59a7677row3_col2\" class=\"data row3 col2\" >107</td>\n",
       "                        <td id=\"T_e10282c8_e7b7_11ea_b986_9a1fe59a7677row3_col3\" class=\"data row3 col3\" >1990</td>\n",
       "                        <td id=\"T_e10282c8_e7b7_11ea_b986_9a1fe59a7677row3_col4\" class=\"data row3 col4\" >Indiana</td>\n",
       "                        <td id=\"T_e10282c8_e7b7_11ea_b986_9a1fe59a7677row3_col5\" class=\"data row3 col5\" >DEN</td>\n",
       "                        <td id=\"T_e10282c8_e7b7_11ea_b986_9a1fe59a7677row3_col6\" class=\"data row3 col6\" >C</td>\n",
       "                        <td id=\"T_e10282c8_e7b7_11ea_b986_9a1fe59a7677row3_col7\" class=\"data row3 col7\" >82</td>\n",
       "                        <td id=\"T_e10282c8_e7b7_11ea_b986_9a1fe59a7677row3_col8\" class=\"data row3 col8\" >21.1</td>\n",
       "                        <td id=\"T_e10282c8_e7b7_11ea_b986_9a1fe59a7677row3_col9\" class=\"data row3 col9\" >1.4</td>\n",
       "                        <td id=\"T_e10282c8_e7b7_11ea_b986_9a1fe59a7677row3_col10\" class=\"data row3 col10\" >0.561</td>\n",
       "                        <td id=\"T_e10282c8_e7b7_11ea_b986_9a1fe59a7677row3_col11\" class=\"data row3 col11\" >7.8</td>\n",
       "            </tr>\n",
       "            <tr>\n",
       "                                <td id=\"T_e10282c8_e7b7_11ea_b986_9a1fe59a7677row4_col0\" class=\"data row4 col0\" >Andre Drummond</td>\n",
       "                        <td id=\"T_e10282c8_e7b7_11ea_b986_9a1fe59a7677row4_col1\" class=\"data row4 col1\" >208</td>\n",
       "                        <td id=\"T_e10282c8_e7b7_11ea_b986_9a1fe59a7677row4_col2\" class=\"data row4 col2\" >126</td>\n",
       "                        <td id=\"T_e10282c8_e7b7_11ea_b986_9a1fe59a7677row4_col3\" class=\"data row4 col3\" >1993</td>\n",
       "                        <td id=\"T_e10282c8_e7b7_11ea_b986_9a1fe59a7677row4_col4\" class=\"data row4 col4\" >New York</td>\n",
       "                        <td id=\"T_e10282c8_e7b7_11ea_b986_9a1fe59a7677row4_col5\" class=\"data row4 col5\" >DET</td>\n",
       "                        <td id=\"T_e10282c8_e7b7_11ea_b986_9a1fe59a7677row4_col6\" class=\"data row4 col6\" >C</td>\n",
       "                        <td id=\"T_e10282c8_e7b7_11ea_b986_9a1fe59a7677row4_col7\" class=\"data row4 col7\" >79</td>\n",
       "                        <td id=\"T_e10282c8_e7b7_11ea_b986_9a1fe59a7677row4_col8\" class=\"data row4 col8\" >33.5</td>\n",
       "                        <td id=\"T_e10282c8_e7b7_11ea_b986_9a1fe59a7677row4_col9\" class=\"data row4 col9\" >3.1</td>\n",
       "                        <td id=\"T_e10282c8_e7b7_11ea_b986_9a1fe59a7677row4_col10\" class=\"data row4 col10\" >0.59</td>\n",
       "                        <td id=\"T_e10282c8_e7b7_11ea_b986_9a1fe59a7677row4_col11\" class=\"data row4 col11\" >17.3</td>\n",
       "            </tr>\n",
       "            <tr>\n",
       "                                <td id=\"T_e10282c8_e7b7_11ea_b986_9a1fe59a7677row5_col0\" class=\"data row5 col0\" >Mitchell Robinson</td>\n",
       "                        <td id=\"T_e10282c8_e7b7_11ea_b986_9a1fe59a7677row5_col1\" class=\"data row5 col1\" >213</td>\n",
       "                        <td id=\"T_e10282c8_e7b7_11ea_b986_9a1fe59a7677row5_col2\" class=\"data row5 col2\" >101</td>\n",
       "                        <td id=\"T_e10282c8_e7b7_11ea_b986_9a1fe59a7677row5_col3\" class=\"data row5 col3\" >1998</td>\n",
       "                        <td id=\"T_e10282c8_e7b7_11ea_b986_9a1fe59a7677row5_col4\" class=\"data row5 col4\" >Florida</td>\n",
       "                        <td id=\"T_e10282c8_e7b7_11ea_b986_9a1fe59a7677row5_col5\" class=\"data row5 col5\" >NYK</td>\n",
       "                        <td id=\"T_e10282c8_e7b7_11ea_b986_9a1fe59a7677row5_col6\" class=\"data row5 col6\" >C</td>\n",
       "                        <td id=\"T_e10282c8_e7b7_11ea_b986_9a1fe59a7677row5_col7\" class=\"data row5 col7\" >66</td>\n",
       "                        <td id=\"T_e10282c8_e7b7_11ea_b986_9a1fe59a7677row5_col8\" class=\"data row5 col8\" >20.6</td>\n",
       "                        <td id=\"T_e10282c8_e7b7_11ea_b986_9a1fe59a7677row5_col9\" class=\"data row5 col9\" >1.2</td>\n",
       "                        <td id=\"T_e10282c8_e7b7_11ea_b986_9a1fe59a7677row5_col10\" class=\"data row5 col10\" >0.6</td>\n",
       "                        <td id=\"T_e10282c8_e7b7_11ea_b986_9a1fe59a7677row5_col11\" class=\"data row5 col11\" >7.3</td>\n",
       "            </tr>\n",
       "            <tr>\n",
       "                                <td id=\"T_e10282c8_e7b7_11ea_b986_9a1fe59a7677row6_col0\" class=\"data row6 col0\" >Ben Simmons</td>\n",
       "                        <td id=\"T_e10282c8_e7b7_11ea_b986_9a1fe59a7677row6_col1\" class=\"data row6 col1\" >208</td>\n",
       "                        <td id=\"T_e10282c8_e7b7_11ea_b986_9a1fe59a7677row6_col2\" class=\"data row6 col2\" >104</td>\n",
       "                        <td id=\"T_e10282c8_e7b7_11ea_b986_9a1fe59a7677row6_col3\" class=\"data row6 col3\" >1996</td>\n",
       "                        <td id=\"T_e10282c8_e7b7_11ea_b986_9a1fe59a7677row6_col4\" class=\"data row6 col4\" >Australia</td>\n",
       "                        <td id=\"T_e10282c8_e7b7_11ea_b986_9a1fe59a7677row6_col5\" class=\"data row6 col5\" >PHI</td>\n",
       "                        <td id=\"T_e10282c8_e7b7_11ea_b986_9a1fe59a7677row6_col6\" class=\"data row6 col6\" >PG</td>\n",
       "                        <td id=\"T_e10282c8_e7b7_11ea_b986_9a1fe59a7677row6_col7\" class=\"data row6 col7\" >79</td>\n",
       "                        <td id=\"T_e10282c8_e7b7_11ea_b986_9a1fe59a7677row6_col8\" class=\"data row6 col8\" >34.2</td>\n",
       "                        <td id=\"T_e10282c8_e7b7_11ea_b986_9a1fe59a7677row6_col9\" class=\"data row6 col9\" >3.3</td>\n",
       "                        <td id=\"T_e10282c8_e7b7_11ea_b986_9a1fe59a7677row6_col10\" class=\"data row6 col10\" >0.6</td>\n",
       "                        <td id=\"T_e10282c8_e7b7_11ea_b986_9a1fe59a7677row6_col11\" class=\"data row6 col11\" >16.9</td>\n",
       "            </tr>\n",
       "            <tr>\n",
       "                                <td id=\"T_e10282c8_e7b7_11ea_b986_9a1fe59a7677row7_col0\" class=\"data row7 col0\" >Derrick Jones Jr.</td>\n",
       "                        <td id=\"T_e10282c8_e7b7_11ea_b986_9a1fe59a7677row7_col1\" class=\"data row7 col1\" >198</td>\n",
       "                        <td id=\"T_e10282c8_e7b7_11ea_b986_9a1fe59a7677row7_col2\" class=\"data row7 col2\" >95</td>\n",
       "                        <td id=\"T_e10282c8_e7b7_11ea_b986_9a1fe59a7677row7_col3\" class=\"data row7 col3\" >1997</td>\n",
       "                        <td id=\"T_e10282c8_e7b7_11ea_b986_9a1fe59a7677row7_col4\" class=\"data row7 col4\" >Pennsylvania</td>\n",
       "                        <td id=\"T_e10282c8_e7b7_11ea_b986_9a1fe59a7677row7_col5\" class=\"data row7 col5\" >MIA</td>\n",
       "                        <td id=\"T_e10282c8_e7b7_11ea_b986_9a1fe59a7677row7_col6\" class=\"data row7 col6\" >SF</td>\n",
       "                        <td id=\"T_e10282c8_e7b7_11ea_b986_9a1fe59a7677row7_col7\" class=\"data row7 col7\" >60</td>\n",
       "                        <td id=\"T_e10282c8_e7b7_11ea_b986_9a1fe59a7677row7_col8\" class=\"data row7 col8\" >19.2</td>\n",
       "                        <td id=\"T_e10282c8_e7b7_11ea_b986_9a1fe59a7677row7_col9\" class=\"data row7 col9\" >1.2</td>\n",
       "                        <td id=\"T_e10282c8_e7b7_11ea_b986_9a1fe59a7677row7_col10\" class=\"data row7 col10\" >0.607</td>\n",
       "                        <td id=\"T_e10282c8_e7b7_11ea_b986_9a1fe59a7677row7_col11\" class=\"data row7 col11\" >7</td>\n",
       "            </tr>\n",
       "            <tr>\n",
       "                                <td id=\"T_e10282c8_e7b7_11ea_b986_9a1fe59a7677row8_col0\" class=\"data row8 col0\" >Ed Davis</td>\n",
       "                        <td id=\"T_e10282c8_e7b7_11ea_b986_9a1fe59a7677row8_col1\" class=\"data row8 col1\" >206</td>\n",
       "                        <td id=\"T_e10282c8_e7b7_11ea_b986_9a1fe59a7677row8_col2\" class=\"data row8 col2\" >102</td>\n",
       "                        <td id=\"T_e10282c8_e7b7_11ea_b986_9a1fe59a7677row8_col3\" class=\"data row8 col3\" >1989</td>\n",
       "                        <td id=\"T_e10282c8_e7b7_11ea_b986_9a1fe59a7677row8_col4\" class=\"data row8 col4\" >District of Columbia</td>\n",
       "                        <td id=\"T_e10282c8_e7b7_11ea_b986_9a1fe59a7677row8_col5\" class=\"data row8 col5\" >BRK</td>\n",
       "                        <td id=\"T_e10282c8_e7b7_11ea_b986_9a1fe59a7677row8_col6\" class=\"data row8 col6\" >C</td>\n",
       "                        <td id=\"T_e10282c8_e7b7_11ea_b986_9a1fe59a7677row8_col7\" class=\"data row8 col7\" >81</td>\n",
       "                        <td id=\"T_e10282c8_e7b7_11ea_b986_9a1fe59a7677row8_col8\" class=\"data row8 col8\" >17.9</td>\n",
       "                        <td id=\"T_e10282c8_e7b7_11ea_b986_9a1fe59a7677row8_col9\" class=\"data row8 col9\" >1.2</td>\n",
       "                        <td id=\"T_e10282c8_e7b7_11ea_b986_9a1fe59a7677row8_col10\" class=\"data row8 col10\" >0.617</td>\n",
       "                        <td id=\"T_e10282c8_e7b7_11ea_b986_9a1fe59a7677row8_col11\" class=\"data row8 col11\" >5.8</td>\n",
       "            </tr>\n",
       "            <tr>\n",
       "                                <td id=\"T_e10282c8_e7b7_11ea_b986_9a1fe59a7677row9_col0\" class=\"data row9 col0\" >Greg Monroe</td>\n",
       "                        <td id=\"T_e10282c8_e7b7_11ea_b986_9a1fe59a7677row9_col1\" class=\"data row9 col1\" >211</td>\n",
       "                        <td id=\"T_e10282c8_e7b7_11ea_b986_9a1fe59a7677row9_col2\" class=\"data row9 col2\" >120</td>\n",
       "                        <td id=\"T_e10282c8_e7b7_11ea_b986_9a1fe59a7677row9_col3\" class=\"data row9 col3\" >1990</td>\n",
       "                        <td id=\"T_e10282c8_e7b7_11ea_b986_9a1fe59a7677row9_col4\" class=\"data row9 col4\" >Louisiana</td>\n",
       "                        <td id=\"T_e10282c8_e7b7_11ea_b986_9a1fe59a7677row9_col5\" class=\"data row9 col5\" >TOT</td>\n",
       "                        <td id=\"T_e10282c8_e7b7_11ea_b986_9a1fe59a7677row9_col6\" class=\"data row9 col6\" >C</td>\n",
       "                        <td id=\"T_e10282c8_e7b7_11ea_b986_9a1fe59a7677row9_col7\" class=\"data row9 col7\" >43</td>\n",
       "                        <td id=\"T_e10282c8_e7b7_11ea_b986_9a1fe59a7677row9_col8\" class=\"data row9 col8\" >11.2</td>\n",
       "                        <td id=\"T_e10282c8_e7b7_11ea_b986_9a1fe59a7677row9_col9\" class=\"data row9 col9\" >1</td>\n",
       "                        <td id=\"T_e10282c8_e7b7_11ea_b986_9a1fe59a7677row9_col10\" class=\"data row9 col10\" >0.625</td>\n",
       "                        <td id=\"T_e10282c8_e7b7_11ea_b986_9a1fe59a7677row9_col11\" class=\"data row9 col11\" >5.3</td>\n",
       "            </tr>\n",
       "    </tbody></table>"
      ],
      "text/plain": [
       "<pandas.io.formats.style.Styler at 0x14a8dda0>"
      ]
     },
     "execution_count": 67,
     "metadata": {},
     "output_type": "execute_result"
    }
   ],
   "source": [
    "stolpci = ['ime_priimek', 'višina', 'teža', 'rojstvo', 'država', 'ekipa', 'pozicija', \n",
    "           'GP', 'MP_game', 'FT_game', 'FT_pct', 'PPG']\n",
    "naredi_tabelo(podatki_surovo.GP, 40, podatki_surovo.FT_game, 1, stolpci, 'FT_pct', True)"
   ]
  },
  {
   "cell_type": "markdown",
   "metadata": {},
   "source": [
    "#### Najboljši veterani in mladi igralci"
   ]
  },
  {
   "cell_type": "markdown",
   "metadata": {},
   "source": [
    "V spodnji tabeli so prikazani najstarejši igralci, ki dosegajo vsaj 10 točk, 3 asistence in 3 skoke na tekmo. Pogoj je tudi da so igrali vsaj 25 tekem v sezoni. Najstarejši igralec, ki mu je to uspelo je bil Dwyane Wade."
   ]
  },
  {
   "cell_type": "code",
   "execution_count": 86,
   "metadata": {},
   "outputs": [],
   "source": [
    "def po_starosti(narascujoce, prikazi=10):\n",
    "    return podatki_starost[(podatki_starost.GP >= 25) & (podatki_starost.PPG >= 10) & \n",
    "                (podatki_starost.APG >= 3) & (podatki_starost.RPG >= 3)\n",
    "              ][['ime_priimek', 'višina', 'teža', 'starost', 'država', 'ekipa', 'pozicija', \n",
    "                 'GP', 'MP_game', 'RPG', 'APG', 'PPG']\n",
    "                                      ].sort_values(['starost', 'PPG'], \n",
    "                                                    ascending = [narascujoce, False]).head(prikazi).style.hide_index()"
   ]
  },
  {
   "cell_type": "code",
   "execution_count": 87,
   "metadata": {},
   "outputs": [
    {
     "data": {
      "text/html": [
       "<style  type=\"text/css\" >\n",
       "</style><table id=\"T_e55552f6_e7b9_11ea_981f_9a1fe59a7677\" ><thead>    <tr>        <th class=\"col_heading level0 col0\" >ime_priimek</th>        <th class=\"col_heading level0 col1\" >višina</th>        <th class=\"col_heading level0 col2\" >teža</th>        <th class=\"col_heading level0 col3\" >starost</th>        <th class=\"col_heading level0 col4\" >država</th>        <th class=\"col_heading level0 col5\" >ekipa</th>        <th class=\"col_heading level0 col6\" >pozicija</th>        <th class=\"col_heading level0 col7\" >GP</th>        <th class=\"col_heading level0 col8\" >MP_game</th>        <th class=\"col_heading level0 col9\" >RPG</th>        <th class=\"col_heading level0 col10\" >APG</th>        <th class=\"col_heading level0 col11\" >PPG</th>    </tr></thead><tbody>\n",
       "                <tr>\n",
       "                                <td id=\"T_e55552f6_e7b9_11ea_981f_9a1fe59a7677row0_col0\" class=\"data row0 col0\" >Dwyane Wade</td>\n",
       "                        <td id=\"T_e55552f6_e7b9_11ea_981f_9a1fe59a7677row0_col1\" class=\"data row0 col1\" >193</td>\n",
       "                        <td id=\"T_e55552f6_e7b9_11ea_981f_9a1fe59a7677row0_col2\" class=\"data row0 col2\" >99</td>\n",
       "                        <td id=\"T_e55552f6_e7b9_11ea_981f_9a1fe59a7677row0_col3\" class=\"data row0 col3\" >36</td>\n",
       "                        <td id=\"T_e55552f6_e7b9_11ea_981f_9a1fe59a7677row0_col4\" class=\"data row0 col4\" >Illinois</td>\n",
       "                        <td id=\"T_e55552f6_e7b9_11ea_981f_9a1fe59a7677row0_col5\" class=\"data row0 col5\" >MIA</td>\n",
       "                        <td id=\"T_e55552f6_e7b9_11ea_981f_9a1fe59a7677row0_col6\" class=\"data row0 col6\" >SG</td>\n",
       "                        <td id=\"T_e55552f6_e7b9_11ea_981f_9a1fe59a7677row0_col7\" class=\"data row0 col7\" >72</td>\n",
       "                        <td id=\"T_e55552f6_e7b9_11ea_981f_9a1fe59a7677row0_col8\" class=\"data row0 col8\" >26.2</td>\n",
       "                        <td id=\"T_e55552f6_e7b9_11ea_981f_9a1fe59a7677row0_col9\" class=\"data row0 col9\" >4</td>\n",
       "                        <td id=\"T_e55552f6_e7b9_11ea_981f_9a1fe59a7677row0_col10\" class=\"data row0 col10\" >4.2</td>\n",
       "                        <td id=\"T_e55552f6_e7b9_11ea_981f_9a1fe59a7677row0_col11\" class=\"data row0 col11\" >15</td>\n",
       "            </tr>\n",
       "            <tr>\n",
       "                                <td id=\"T_e55552f6_e7b9_11ea_981f_9a1fe59a7677row1_col0\" class=\"data row1 col0\" >LeBron James</td>\n",
       "                        <td id=\"T_e55552f6_e7b9_11ea_981f_9a1fe59a7677row1_col1\" class=\"data row1 col1\" >206</td>\n",
       "                        <td id=\"T_e55552f6_e7b9_11ea_981f_9a1fe59a7677row1_col2\" class=\"data row1 col2\" >113</td>\n",
       "                        <td id=\"T_e55552f6_e7b9_11ea_981f_9a1fe59a7677row1_col3\" class=\"data row1 col3\" >34</td>\n",
       "                        <td id=\"T_e55552f6_e7b9_11ea_981f_9a1fe59a7677row1_col4\" class=\"data row1 col4\" >Ohio</td>\n",
       "                        <td id=\"T_e55552f6_e7b9_11ea_981f_9a1fe59a7677row1_col5\" class=\"data row1 col5\" >LAL</td>\n",
       "                        <td id=\"T_e55552f6_e7b9_11ea_981f_9a1fe59a7677row1_col6\" class=\"data row1 col6\" >SF</td>\n",
       "                        <td id=\"T_e55552f6_e7b9_11ea_981f_9a1fe59a7677row1_col7\" class=\"data row1 col7\" >55</td>\n",
       "                        <td id=\"T_e55552f6_e7b9_11ea_981f_9a1fe59a7677row1_col8\" class=\"data row1 col8\" >35.2</td>\n",
       "                        <td id=\"T_e55552f6_e7b9_11ea_981f_9a1fe59a7677row1_col9\" class=\"data row1 col9\" >8.5</td>\n",
       "                        <td id=\"T_e55552f6_e7b9_11ea_981f_9a1fe59a7677row1_col10\" class=\"data row1 col10\" >8.3</td>\n",
       "                        <td id=\"T_e55552f6_e7b9_11ea_981f_9a1fe59a7677row1_col11\" class=\"data row1 col11\" >27.4</td>\n",
       "            </tr>\n",
       "            <tr>\n",
       "                                <td id=\"T_e55552f6_e7b9_11ea_981f_9a1fe59a7677row2_col0\" class=\"data row2 col0\" >Chris Paul</td>\n",
       "                        <td id=\"T_e55552f6_e7b9_11ea_981f_9a1fe59a7677row2_col1\" class=\"data row2 col1\" >185</td>\n",
       "                        <td id=\"T_e55552f6_e7b9_11ea_981f_9a1fe59a7677row2_col2\" class=\"data row2 col2\" >79</td>\n",
       "                        <td id=\"T_e55552f6_e7b9_11ea_981f_9a1fe59a7677row2_col3\" class=\"data row2 col3\" >33</td>\n",
       "                        <td id=\"T_e55552f6_e7b9_11ea_981f_9a1fe59a7677row2_col4\" class=\"data row2 col4\" >North Carolina</td>\n",
       "                        <td id=\"T_e55552f6_e7b9_11ea_981f_9a1fe59a7677row2_col5\" class=\"data row2 col5\" >HOU</td>\n",
       "                        <td id=\"T_e55552f6_e7b9_11ea_981f_9a1fe59a7677row2_col6\" class=\"data row2 col6\" >PG</td>\n",
       "                        <td id=\"T_e55552f6_e7b9_11ea_981f_9a1fe59a7677row2_col7\" class=\"data row2 col7\" >58</td>\n",
       "                        <td id=\"T_e55552f6_e7b9_11ea_981f_9a1fe59a7677row2_col8\" class=\"data row2 col8\" >32</td>\n",
       "                        <td id=\"T_e55552f6_e7b9_11ea_981f_9a1fe59a7677row2_col9\" class=\"data row2 col9\" >4.6</td>\n",
       "                        <td id=\"T_e55552f6_e7b9_11ea_981f_9a1fe59a7677row2_col10\" class=\"data row2 col10\" >8.2</td>\n",
       "                        <td id=\"T_e55552f6_e7b9_11ea_981f_9a1fe59a7677row2_col11\" class=\"data row2 col11\" >15.6</td>\n",
       "            </tr>\n",
       "            <tr>\n",
       "                                <td id=\"T_e55552f6_e7b9_11ea_981f_9a1fe59a7677row3_col0\" class=\"data row3 col0\" >Marc Gasol</td>\n",
       "                        <td id=\"T_e55552f6_e7b9_11ea_981f_9a1fe59a7677row3_col1\" class=\"data row3 col1\" >211</td>\n",
       "                        <td id=\"T_e55552f6_e7b9_11ea_981f_9a1fe59a7677row3_col2\" class=\"data row3 col2\" >115</td>\n",
       "                        <td id=\"T_e55552f6_e7b9_11ea_981f_9a1fe59a7677row3_col3\" class=\"data row3 col3\" >33</td>\n",
       "                        <td id=\"T_e55552f6_e7b9_11ea_981f_9a1fe59a7677row3_col4\" class=\"data row3 col4\" >Spain</td>\n",
       "                        <td id=\"T_e55552f6_e7b9_11ea_981f_9a1fe59a7677row3_col5\" class=\"data row3 col5\" >TOT</td>\n",
       "                        <td id=\"T_e55552f6_e7b9_11ea_981f_9a1fe59a7677row3_col6\" class=\"data row3 col6\" >C</td>\n",
       "                        <td id=\"T_e55552f6_e7b9_11ea_981f_9a1fe59a7677row3_col7\" class=\"data row3 col7\" >79</td>\n",
       "                        <td id=\"T_e55552f6_e7b9_11ea_981f_9a1fe59a7677row3_col8\" class=\"data row3 col8\" >30.8</td>\n",
       "                        <td id=\"T_e55552f6_e7b9_11ea_981f_9a1fe59a7677row3_col9\" class=\"data row3 col9\" >7.9</td>\n",
       "                        <td id=\"T_e55552f6_e7b9_11ea_981f_9a1fe59a7677row3_col10\" class=\"data row3 col10\" >4.4</td>\n",
       "                        <td id=\"T_e55552f6_e7b9_11ea_981f_9a1fe59a7677row3_col11\" class=\"data row3 col11\" >13.6</td>\n",
       "            </tr>\n",
       "            <tr>\n",
       "                                <td id=\"T_e55552f6_e7b9_11ea_981f_9a1fe59a7677row4_col0\" class=\"data row4 col0\" >Trevor Ariza</td>\n",
       "                        <td id=\"T_e55552f6_e7b9_11ea_981f_9a1fe59a7677row4_col1\" class=\"data row4 col1\" >203</td>\n",
       "                        <td id=\"T_e55552f6_e7b9_11ea_981f_9a1fe59a7677row4_col2\" class=\"data row4 col2\" >97</td>\n",
       "                        <td id=\"T_e55552f6_e7b9_11ea_981f_9a1fe59a7677row4_col3\" class=\"data row4 col3\" >33</td>\n",
       "                        <td id=\"T_e55552f6_e7b9_11ea_981f_9a1fe59a7677row4_col4\" class=\"data row4 col4\" >Florida</td>\n",
       "                        <td id=\"T_e55552f6_e7b9_11ea_981f_9a1fe59a7677row4_col5\" class=\"data row4 col5\" >TOT</td>\n",
       "                        <td id=\"T_e55552f6_e7b9_11ea_981f_9a1fe59a7677row4_col6\" class=\"data row4 col6\" >SF</td>\n",
       "                        <td id=\"T_e55552f6_e7b9_11ea_981f_9a1fe59a7677row4_col7\" class=\"data row4 col7\" >69</td>\n",
       "                        <td id=\"T_e55552f6_e7b9_11ea_981f_9a1fe59a7677row4_col8\" class=\"data row4 col8\" >34</td>\n",
       "                        <td id=\"T_e55552f6_e7b9_11ea_981f_9a1fe59a7677row4_col9\" class=\"data row4 col9\" >5.4</td>\n",
       "                        <td id=\"T_e55552f6_e7b9_11ea_981f_9a1fe59a7677row4_col10\" class=\"data row4 col10\" >3.7</td>\n",
       "                        <td id=\"T_e55552f6_e7b9_11ea_981f_9a1fe59a7677row4_col11\" class=\"data row4 col11\" >12.5</td>\n",
       "            </tr>\n",
       "            <tr>\n",
       "                                <td id=\"T_e55552f6_e7b9_11ea_981f_9a1fe59a7677row5_col0\" class=\"data row5 col0\" >Lou Williams</td>\n",
       "                        <td id=\"T_e55552f6_e7b9_11ea_981f_9a1fe59a7677row5_col1\" class=\"data row5 col1\" >185</td>\n",
       "                        <td id=\"T_e55552f6_e7b9_11ea_981f_9a1fe59a7677row5_col2\" class=\"data row5 col2\" >79</td>\n",
       "                        <td id=\"T_e55552f6_e7b9_11ea_981f_9a1fe59a7677row5_col3\" class=\"data row5 col3\" >32</td>\n",
       "                        <td id=\"T_e55552f6_e7b9_11ea_981f_9a1fe59a7677row5_col4\" class=\"data row5 col4\" >Tennessee</td>\n",
       "                        <td id=\"T_e55552f6_e7b9_11ea_981f_9a1fe59a7677row5_col5\" class=\"data row5 col5\" >LAC</td>\n",
       "                        <td id=\"T_e55552f6_e7b9_11ea_981f_9a1fe59a7677row5_col6\" class=\"data row5 col6\" >SG</td>\n",
       "                        <td id=\"T_e55552f6_e7b9_11ea_981f_9a1fe59a7677row5_col7\" class=\"data row5 col7\" >75</td>\n",
       "                        <td id=\"T_e55552f6_e7b9_11ea_981f_9a1fe59a7677row5_col8\" class=\"data row5 col8\" >26.6</td>\n",
       "                        <td id=\"T_e55552f6_e7b9_11ea_981f_9a1fe59a7677row5_col9\" class=\"data row5 col9\" >3</td>\n",
       "                        <td id=\"T_e55552f6_e7b9_11ea_981f_9a1fe59a7677row5_col10\" class=\"data row5 col10\" >5.4</td>\n",
       "                        <td id=\"T_e55552f6_e7b9_11ea_981f_9a1fe59a7677row5_col11\" class=\"data row5 col11\" >20</td>\n",
       "            </tr>\n",
       "            <tr>\n",
       "                                <td id=\"T_e55552f6_e7b9_11ea_981f_9a1fe59a7677row6_col0\" class=\"data row6 col0\" >Kyle Lowry</td>\n",
       "                        <td id=\"T_e55552f6_e7b9_11ea_981f_9a1fe59a7677row6_col1\" class=\"data row6 col1\" >183</td>\n",
       "                        <td id=\"T_e55552f6_e7b9_11ea_981f_9a1fe59a7677row6_col2\" class=\"data row6 col2\" >88</td>\n",
       "                        <td id=\"T_e55552f6_e7b9_11ea_981f_9a1fe59a7677row6_col3\" class=\"data row6 col3\" >32</td>\n",
       "                        <td id=\"T_e55552f6_e7b9_11ea_981f_9a1fe59a7677row6_col4\" class=\"data row6 col4\" >Pennsylvania</td>\n",
       "                        <td id=\"T_e55552f6_e7b9_11ea_981f_9a1fe59a7677row6_col5\" class=\"data row6 col5\" >TOR</td>\n",
       "                        <td id=\"T_e55552f6_e7b9_11ea_981f_9a1fe59a7677row6_col6\" class=\"data row6 col6\" >PG</td>\n",
       "                        <td id=\"T_e55552f6_e7b9_11ea_981f_9a1fe59a7677row6_col7\" class=\"data row6 col7\" >65</td>\n",
       "                        <td id=\"T_e55552f6_e7b9_11ea_981f_9a1fe59a7677row6_col8\" class=\"data row6 col8\" >34</td>\n",
       "                        <td id=\"T_e55552f6_e7b9_11ea_981f_9a1fe59a7677row6_col9\" class=\"data row6 col9\" >4.8</td>\n",
       "                        <td id=\"T_e55552f6_e7b9_11ea_981f_9a1fe59a7677row6_col10\" class=\"data row6 col10\" >8.7</td>\n",
       "                        <td id=\"T_e55552f6_e7b9_11ea_981f_9a1fe59a7677row6_col11\" class=\"data row6 col11\" >14.2</td>\n",
       "            </tr>\n",
       "            <tr>\n",
       "                                <td id=\"T_e55552f6_e7b9_11ea_981f_9a1fe59a7677row7_col0\" class=\"data row7 col0\" >Goran Dragić</td>\n",
       "                        <td id=\"T_e55552f6_e7b9_11ea_981f_9a1fe59a7677row7_col1\" class=\"data row7 col1\" >190</td>\n",
       "                        <td id=\"T_e55552f6_e7b9_11ea_981f_9a1fe59a7677row7_col2\" class=\"data row7 col2\" >86</td>\n",
       "                        <td id=\"T_e55552f6_e7b9_11ea_981f_9a1fe59a7677row7_col3\" class=\"data row7 col3\" >32</td>\n",
       "                        <td id=\"T_e55552f6_e7b9_11ea_981f_9a1fe59a7677row7_col4\" class=\"data row7 col4\" >Slovenia</td>\n",
       "                        <td id=\"T_e55552f6_e7b9_11ea_981f_9a1fe59a7677row7_col5\" class=\"data row7 col5\" >MIA</td>\n",
       "                        <td id=\"T_e55552f6_e7b9_11ea_981f_9a1fe59a7677row7_col6\" class=\"data row7 col6\" >PG</td>\n",
       "                        <td id=\"T_e55552f6_e7b9_11ea_981f_9a1fe59a7677row7_col7\" class=\"data row7 col7\" >36</td>\n",
       "                        <td id=\"T_e55552f6_e7b9_11ea_981f_9a1fe59a7677row7_col8\" class=\"data row7 col8\" >27.5</td>\n",
       "                        <td id=\"T_e55552f6_e7b9_11ea_981f_9a1fe59a7677row7_col9\" class=\"data row7 col9\" >3.1</td>\n",
       "                        <td id=\"T_e55552f6_e7b9_11ea_981f_9a1fe59a7677row7_col10\" class=\"data row7 col10\" >4.8</td>\n",
       "                        <td id=\"T_e55552f6_e7b9_11ea_981f_9a1fe59a7677row7_col11\" class=\"data row7 col11\" >13.7</td>\n",
       "            </tr>\n",
       "            <tr>\n",
       "                                <td id=\"T_e55552f6_e7b9_11ea_981f_9a1fe59a7677row8_col0\" class=\"data row8 col0\" >Al Horford</td>\n",
       "                        <td id=\"T_e55552f6_e7b9_11ea_981f_9a1fe59a7677row8_col1\" class=\"data row8 col1\" >206</td>\n",
       "                        <td id=\"T_e55552f6_e7b9_11ea_981f_9a1fe59a7677row8_col2\" class=\"data row8 col2\" >111</td>\n",
       "                        <td id=\"T_e55552f6_e7b9_11ea_981f_9a1fe59a7677row8_col3\" class=\"data row8 col3\" >32</td>\n",
       "                        <td id=\"T_e55552f6_e7b9_11ea_981f_9a1fe59a7677row8_col4\" class=\"data row8 col4\" >Dominican Republic</td>\n",
       "                        <td id=\"T_e55552f6_e7b9_11ea_981f_9a1fe59a7677row8_col5\" class=\"data row8 col5\" >BOS</td>\n",
       "                        <td id=\"T_e55552f6_e7b9_11ea_981f_9a1fe59a7677row8_col6\" class=\"data row8 col6\" >C</td>\n",
       "                        <td id=\"T_e55552f6_e7b9_11ea_981f_9a1fe59a7677row8_col7\" class=\"data row8 col7\" >68</td>\n",
       "                        <td id=\"T_e55552f6_e7b9_11ea_981f_9a1fe59a7677row8_col8\" class=\"data row8 col8\" >29</td>\n",
       "                        <td id=\"T_e55552f6_e7b9_11ea_981f_9a1fe59a7677row8_col9\" class=\"data row8 col9\" >6.7</td>\n",
       "                        <td id=\"T_e55552f6_e7b9_11ea_981f_9a1fe59a7677row8_col10\" class=\"data row8 col10\" >4.2</td>\n",
       "                        <td id=\"T_e55552f6_e7b9_11ea_981f_9a1fe59a7677row8_col11\" class=\"data row8 col11\" >13.6</td>\n",
       "            </tr>\n",
       "            <tr>\n",
       "                                <td id=\"T_e55552f6_e7b9_11ea_981f_9a1fe59a7677row9_col0\" class=\"data row9 col0\" >Mike Conley</td>\n",
       "                        <td id=\"T_e55552f6_e7b9_11ea_981f_9a1fe59a7677row9_col1\" class=\"data row9 col1\" >185</td>\n",
       "                        <td id=\"T_e55552f6_e7b9_11ea_981f_9a1fe59a7677row9_col2\" class=\"data row9 col2\" >79</td>\n",
       "                        <td id=\"T_e55552f6_e7b9_11ea_981f_9a1fe59a7677row9_col3\" class=\"data row9 col3\" >31</td>\n",
       "                        <td id=\"T_e55552f6_e7b9_11ea_981f_9a1fe59a7677row9_col4\" class=\"data row9 col4\" >Arkansas</td>\n",
       "                        <td id=\"T_e55552f6_e7b9_11ea_981f_9a1fe59a7677row9_col5\" class=\"data row9 col5\" >MEM</td>\n",
       "                        <td id=\"T_e55552f6_e7b9_11ea_981f_9a1fe59a7677row9_col6\" class=\"data row9 col6\" >PG</td>\n",
       "                        <td id=\"T_e55552f6_e7b9_11ea_981f_9a1fe59a7677row9_col7\" class=\"data row9 col7\" >70</td>\n",
       "                        <td id=\"T_e55552f6_e7b9_11ea_981f_9a1fe59a7677row9_col8\" class=\"data row9 col8\" >33.5</td>\n",
       "                        <td id=\"T_e55552f6_e7b9_11ea_981f_9a1fe59a7677row9_col9\" class=\"data row9 col9\" >3.4</td>\n",
       "                        <td id=\"T_e55552f6_e7b9_11ea_981f_9a1fe59a7677row9_col10\" class=\"data row9 col10\" >6.4</td>\n",
       "                        <td id=\"T_e55552f6_e7b9_11ea_981f_9a1fe59a7677row9_col11\" class=\"data row9 col11\" >21.1</td>\n",
       "            </tr>\n",
       "    </tbody></table>"
      ],
      "text/plain": [
       "<pandas.io.formats.style.Styler at 0x14aa08d0>"
      ]
     },
     "execution_count": 87,
     "metadata": {},
     "output_type": "execute_result"
    }
   ],
   "source": [
    "po_starosti(False)"
   ]
  },
  {
   "cell_type": "markdown",
   "metadata": {},
   "source": [
    "Nazadnje si poglejmo še pet najmlajših igralcev, ki dosegajo zgornje pogoje. Najmlajši igralec, ki mu je to uspelo je Luka Dončić."
   ]
  },
  {
   "cell_type": "code",
   "execution_count": 88,
   "metadata": {},
   "outputs": [
    {
     "data": {
      "text/html": [
       "<style  type=\"text/css\" >\n",
       "</style><table id=\"T_ecab2b1c_e7b9_11ea_a903_9a1fe59a7677\" ><thead>    <tr>        <th class=\"col_heading level0 col0\" >ime_priimek</th>        <th class=\"col_heading level0 col1\" >višina</th>        <th class=\"col_heading level0 col2\" >teža</th>        <th class=\"col_heading level0 col3\" >starost</th>        <th class=\"col_heading level0 col4\" >država</th>        <th class=\"col_heading level0 col5\" >ekipa</th>        <th class=\"col_heading level0 col6\" >pozicija</th>        <th class=\"col_heading level0 col7\" >GP</th>        <th class=\"col_heading level0 col8\" >MP_game</th>        <th class=\"col_heading level0 col9\" >RPG</th>        <th class=\"col_heading level0 col10\" >APG</th>        <th class=\"col_heading level0 col11\" >PPG</th>    </tr></thead><tbody>\n",
       "                <tr>\n",
       "                                <td id=\"T_ecab2b1c_e7b9_11ea_a903_9a1fe59a7677row0_col0\" class=\"data row0 col0\" >Luka Dončić</td>\n",
       "                        <td id=\"T_ecab2b1c_e7b9_11ea_a903_9a1fe59a7677row0_col1\" class=\"data row0 col1\" >201</td>\n",
       "                        <td id=\"T_ecab2b1c_e7b9_11ea_a903_9a1fe59a7677row0_col2\" class=\"data row0 col2\" >98</td>\n",
       "                        <td id=\"T_ecab2b1c_e7b9_11ea_a903_9a1fe59a7677row0_col3\" class=\"data row0 col3\" >19</td>\n",
       "                        <td id=\"T_ecab2b1c_e7b9_11ea_a903_9a1fe59a7677row0_col4\" class=\"data row0 col4\" >Slovenia</td>\n",
       "                        <td id=\"T_ecab2b1c_e7b9_11ea_a903_9a1fe59a7677row0_col5\" class=\"data row0 col5\" >DAL</td>\n",
       "                        <td id=\"T_ecab2b1c_e7b9_11ea_a903_9a1fe59a7677row0_col6\" class=\"data row0 col6\" >SG</td>\n",
       "                        <td id=\"T_ecab2b1c_e7b9_11ea_a903_9a1fe59a7677row0_col7\" class=\"data row0 col7\" >72</td>\n",
       "                        <td id=\"T_ecab2b1c_e7b9_11ea_a903_9a1fe59a7677row0_col8\" class=\"data row0 col8\" >32.2</td>\n",
       "                        <td id=\"T_ecab2b1c_e7b9_11ea_a903_9a1fe59a7677row0_col9\" class=\"data row0 col9\" >7.8</td>\n",
       "                        <td id=\"T_ecab2b1c_e7b9_11ea_a903_9a1fe59a7677row0_col10\" class=\"data row0 col10\" >6</td>\n",
       "                        <td id=\"T_ecab2b1c_e7b9_11ea_a903_9a1fe59a7677row0_col11\" class=\"data row0 col11\" >21.2</td>\n",
       "            </tr>\n",
       "            <tr>\n",
       "                                <td id=\"T_ecab2b1c_e7b9_11ea_a903_9a1fe59a7677row1_col0\" class=\"data row1 col0\" >Trae Young</td>\n",
       "                        <td id=\"T_ecab2b1c_e7b9_11ea_a903_9a1fe59a7677row1_col1\" class=\"data row1 col1\" >185</td>\n",
       "                        <td id=\"T_ecab2b1c_e7b9_11ea_a903_9a1fe59a7677row1_col2\" class=\"data row1 col2\" >81</td>\n",
       "                        <td id=\"T_ecab2b1c_e7b9_11ea_a903_9a1fe59a7677row1_col3\" class=\"data row1 col3\" >20</td>\n",
       "                        <td id=\"T_ecab2b1c_e7b9_11ea_a903_9a1fe59a7677row1_col4\" class=\"data row1 col4\" >Texas</td>\n",
       "                        <td id=\"T_ecab2b1c_e7b9_11ea_a903_9a1fe59a7677row1_col5\" class=\"data row1 col5\" >ATL</td>\n",
       "                        <td id=\"T_ecab2b1c_e7b9_11ea_a903_9a1fe59a7677row1_col6\" class=\"data row1 col6\" >PG</td>\n",
       "                        <td id=\"T_ecab2b1c_e7b9_11ea_a903_9a1fe59a7677row1_col7\" class=\"data row1 col7\" >81</td>\n",
       "                        <td id=\"T_ecab2b1c_e7b9_11ea_a903_9a1fe59a7677row1_col8\" class=\"data row1 col8\" >30.9</td>\n",
       "                        <td id=\"T_ecab2b1c_e7b9_11ea_a903_9a1fe59a7677row1_col9\" class=\"data row1 col9\" >3.7</td>\n",
       "                        <td id=\"T_ecab2b1c_e7b9_11ea_a903_9a1fe59a7677row1_col10\" class=\"data row1 col10\" >8.1</td>\n",
       "                        <td id=\"T_ecab2b1c_e7b9_11ea_a903_9a1fe59a7677row1_col11\" class=\"data row1 col11\" >19.1</td>\n",
       "            </tr>\n",
       "            <tr>\n",
       "                                <td id=\"T_ecab2b1c_e7b9_11ea_a903_9a1fe59a7677row2_col0\" class=\"data row2 col0\" >Brandon Ingram</td>\n",
       "                        <td id=\"T_ecab2b1c_e7b9_11ea_a903_9a1fe59a7677row2_col1\" class=\"data row2 col1\" >201</td>\n",
       "                        <td id=\"T_ecab2b1c_e7b9_11ea_a903_9a1fe59a7677row2_col2\" class=\"data row2 col2\" >86</td>\n",
       "                        <td id=\"T_ecab2b1c_e7b9_11ea_a903_9a1fe59a7677row2_col3\" class=\"data row2 col3\" >21</td>\n",
       "                        <td id=\"T_ecab2b1c_e7b9_11ea_a903_9a1fe59a7677row2_col4\" class=\"data row2 col4\" >North Carolina</td>\n",
       "                        <td id=\"T_ecab2b1c_e7b9_11ea_a903_9a1fe59a7677row2_col5\" class=\"data row2 col5\" >LAL</td>\n",
       "                        <td id=\"T_ecab2b1c_e7b9_11ea_a903_9a1fe59a7677row2_col6\" class=\"data row2 col6\" >SF</td>\n",
       "                        <td id=\"T_ecab2b1c_e7b9_11ea_a903_9a1fe59a7677row2_col7\" class=\"data row2 col7\" >52</td>\n",
       "                        <td id=\"T_ecab2b1c_e7b9_11ea_a903_9a1fe59a7677row2_col8\" class=\"data row2 col8\" >33.8</td>\n",
       "                        <td id=\"T_ecab2b1c_e7b9_11ea_a903_9a1fe59a7677row2_col9\" class=\"data row2 col9\" >5.1</td>\n",
       "                        <td id=\"T_ecab2b1c_e7b9_11ea_a903_9a1fe59a7677row2_col10\" class=\"data row2 col10\" >3</td>\n",
       "                        <td id=\"T_ecab2b1c_e7b9_11ea_a903_9a1fe59a7677row2_col11\" class=\"data row2 col11\" >18.3</td>\n",
       "            </tr>\n",
       "            <tr>\n",
       "                                <td id=\"T_ecab2b1c_e7b9_11ea_a903_9a1fe59a7677row3_col0\" class=\"data row3 col0\" >Jamal Murray</td>\n",
       "                        <td id=\"T_ecab2b1c_e7b9_11ea_a903_9a1fe59a7677row3_col1\" class=\"data row3 col1\" >193</td>\n",
       "                        <td id=\"T_ecab2b1c_e7b9_11ea_a903_9a1fe59a7677row3_col2\" class=\"data row3 col2\" >91</td>\n",
       "                        <td id=\"T_ecab2b1c_e7b9_11ea_a903_9a1fe59a7677row3_col3\" class=\"data row3 col3\" >21</td>\n",
       "                        <td id=\"T_ecab2b1c_e7b9_11ea_a903_9a1fe59a7677row3_col4\" class=\"data row3 col4\" >Canada</td>\n",
       "                        <td id=\"T_ecab2b1c_e7b9_11ea_a903_9a1fe59a7677row3_col5\" class=\"data row3 col5\" >DEN</td>\n",
       "                        <td id=\"T_ecab2b1c_e7b9_11ea_a903_9a1fe59a7677row3_col6\" class=\"data row3 col6\" >PG</td>\n",
       "                        <td id=\"T_ecab2b1c_e7b9_11ea_a903_9a1fe59a7677row3_col7\" class=\"data row3 col7\" >75</td>\n",
       "                        <td id=\"T_ecab2b1c_e7b9_11ea_a903_9a1fe59a7677row3_col8\" class=\"data row3 col8\" >32.6</td>\n",
       "                        <td id=\"T_ecab2b1c_e7b9_11ea_a903_9a1fe59a7677row3_col9\" class=\"data row3 col9\" >4.2</td>\n",
       "                        <td id=\"T_ecab2b1c_e7b9_11ea_a903_9a1fe59a7677row3_col10\" class=\"data row3 col10\" >4.8</td>\n",
       "                        <td id=\"T_ecab2b1c_e7b9_11ea_a903_9a1fe59a7677row3_col11\" class=\"data row3 col11\" >18.2</td>\n",
       "            </tr>\n",
       "            <tr>\n",
       "                                <td id=\"T_ecab2b1c_e7b9_11ea_a903_9a1fe59a7677row4_col0\" class=\"data row4 col0\" >De'Aaron Fox</td>\n",
       "                        <td id=\"T_ecab2b1c_e7b9_11ea_a903_9a1fe59a7677row4_col1\" class=\"data row4 col1\" >190</td>\n",
       "                        <td id=\"T_ecab2b1c_e7b9_11ea_a903_9a1fe59a7677row4_col2\" class=\"data row4 col2\" >83</td>\n",
       "                        <td id=\"T_ecab2b1c_e7b9_11ea_a903_9a1fe59a7677row4_col3\" class=\"data row4 col3\" >21</td>\n",
       "                        <td id=\"T_ecab2b1c_e7b9_11ea_a903_9a1fe59a7677row4_col4\" class=\"data row4 col4\" >Louisiana</td>\n",
       "                        <td id=\"T_ecab2b1c_e7b9_11ea_a903_9a1fe59a7677row4_col5\" class=\"data row4 col5\" >SAC</td>\n",
       "                        <td id=\"T_ecab2b1c_e7b9_11ea_a903_9a1fe59a7677row4_col6\" class=\"data row4 col6\" >PG</td>\n",
       "                        <td id=\"T_ecab2b1c_e7b9_11ea_a903_9a1fe59a7677row4_col7\" class=\"data row4 col7\" >81</td>\n",
       "                        <td id=\"T_ecab2b1c_e7b9_11ea_a903_9a1fe59a7677row4_col8\" class=\"data row4 col8\" >31.4</td>\n",
       "                        <td id=\"T_ecab2b1c_e7b9_11ea_a903_9a1fe59a7677row4_col9\" class=\"data row4 col9\" >3.8</td>\n",
       "                        <td id=\"T_ecab2b1c_e7b9_11ea_a903_9a1fe59a7677row4_col10\" class=\"data row4 col10\" >7.3</td>\n",
       "                        <td id=\"T_ecab2b1c_e7b9_11ea_a903_9a1fe59a7677row4_col11\" class=\"data row4 col11\" >17.3</td>\n",
       "            </tr>\n",
       "    </tbody></table>"
      ],
      "text/plain": [
       "<pandas.io.formats.style.Styler at 0x14aa0780>"
      ]
     },
     "execution_count": 88,
     "metadata": {},
     "output_type": "execute_result"
    }
   ],
   "source": [
    "po_starosti(True, 5)"
   ]
  },
  {
   "cell_type": "markdown",
   "metadata": {},
   "source": [
    "#### Zaključek"
   ]
  },
  {
   "cell_type": "markdown",
   "metadata": {},
   "source": [
    "Ugotovili smo, da višina in teža igralca ne vplivata na procent zadetih metov za tri točke, vendar je pomembno poudariti, da se višji igralci manj pogosto odločijo za tak met. Drugače je pri prostih metih, kjer pa res velja splošna prepričanost da imajo višji in težji igralci manj natančen met."
   ]
  }
 ],
 "metadata": {
  "kernelspec": {
   "display_name": "Python 3",
   "language": "python",
   "name": "python3"
  },
  "language_info": {
   "codemirror_mode": {
    "name": "ipython",
    "version": 3
   },
   "file_extension": ".py",
   "mimetype": "text/x-python",
   "name": "python",
   "nbconvert_exporter": "python",
   "pygments_lexer": "ipython3",
   "version": "3.6.1"
  }
 },
 "nbformat": 4,
 "nbformat_minor": 2
}
